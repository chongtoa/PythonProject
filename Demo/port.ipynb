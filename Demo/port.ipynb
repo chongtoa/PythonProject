{
 "cells": [
  {
   "cell_type": "code",
   "execution_count": 1,
   "metadata": {},
   "outputs": [
    {
     "name": "stdout",
     "output_type": "stream",
     "text": [
      "\n",
      "[+] Scan Results for: 180.97.33.108\n",
      "Scanning port: 80\n",
      "Scanning port: 443\n",
      "Scanning port: 3389\n",
      "Scanning port: 1433\n",
      "Scanning port: 23\n",
      "Scanning port: 445\n"
     ]
    }
   ],
   "source": [
    "import socket\n",
    "#测试当前主机和端口是否开放\n",
    "def connScan(host, port):\n",
    "    try:\n",
    "        connSkr = socket.socket(socket.AF_INET, socket.SOCK_STREAM)\n",
    "        connSkt.connect((host, port))\n",
    "        print(\"tcp open port:\" + str(port))\n",
    "    except:\n",
    "        print(\"tcp closed:\" +str(port))\n",
    "\n",
    "def portScan(tgtHost, tgtPorts):\n",
    "    try:\n",
    "        tgtIP = socket.gethostbyname(tgtHost)\n",
    "    except:\n",
    "        print(\"[-] Cannot resolve '%s': Unknown host\" %tgtHost)\n",
    "        return\n",
    "    \n",
    "    try:\n",
    "        tgtName = socket.gethostbyaddr(tgtIP)\n",
    "        print(\"\\n[+] Scan Results for: \" + tgtName[0])\n",
    "    except:\n",
    "        print(\"\\n[+] Scan Results for: \"+ tgtIP)\n",
    "    socket.setdefaulttimeout(1)\n",
    "    for tgtPort in tgtPorts:\n",
    "        print(\"Scanning port: \"+ str(tgtPort))\n",
    "        \n",
    "portScan('www.baidu.com', [80, 443, 3389, 1433, 23, 445])"
   ]
  },
  {
   "cell_type": "code",
   "execution_count": null,
   "metadata": {},
   "outputs": [],
   "source": []
  }
 ],
 "metadata": {
  "kernelspec": {
   "display_name": "Python 3",
   "language": "python",
   "name": "python3"
  },
  "language_info": {
   "codemirror_mode": {
    "name": "ipython",
    "version": 3
   },
   "file_extension": ".py",
   "mimetype": "text/x-python",
   "name": "python",
   "nbconvert_exporter": "python",
   "pygments_lexer": "ipython3",
   "version": "3.7.1"
  }
 },
 "nbformat": 4,
 "nbformat_minor": 2
}
