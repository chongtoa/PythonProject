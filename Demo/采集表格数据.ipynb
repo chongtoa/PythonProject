{
 "cells": [
  {
   "cell_type": "code",
   "execution_count": 1,
   "metadata": {},
   "outputs": [],
   "source": [
    "import requests\n",
    "from bs4 import BeautifulSoup\n",
    "import re\n",
    "import os\n",
    "import pandas as pd\n",
    "import numpy as np"
   ]
  },
  {
   "cell_type": "code",
   "execution_count": 2,
   "metadata": {},
   "outputs": [],
   "source": [
    "url = 'https://rl.fx678.com/date/20190413.html'\n",
    "headers = {'User-Agent': \n",
    "           'Mozilla/5.0 (Macintosh; Intel Mac OS X 10_14_4) AppleWebKit/537.36 (KHTML, like Gecko) Chrome/73.0.3683.103 Safari/537.36'}\n",
    "\n",
    "r = requests.get(url, headers = headers)\n",
    "html = r.text.encode(r.encoding).decode()\n",
    "soup = BeautifulSoup(html, 'lxml')"
   ]
  },
  {
   "cell_type": "code",
   "execution_count": 3,
   "metadata": {},
   "outputs": [],
   "source": [
    "# 查找所需要对象\n",
    "table = soup.find('table', id = 'current_data')"
   ]
  },
  {
   "cell_type": "code",
   "execution_count": 4,
   "metadata": {},
   "outputs": [
    {
     "name": "stdout",
     "output_type": "stream",
     "text": [
      "7\n",
      "0\t0\t9\t7\t7\t7\t7\t7\t7\t"
     ]
    }
   ],
   "source": [
    "# 查看行号\n",
    "height = len(table.findAll(lambda tag:tag.name == 'tr' and\n",
    "                          len(tag.findAll('td')) >= 1))\n",
    "print(height)\n",
    "\n",
    "# 查看列数\n",
    "for row in table.findAll('tr'):\n",
    "    print(len(row.findAll('td')), end='\\t')"
   ]
  },
  {
   "cell_type": "code",
   "execution_count": 5,
   "metadata": {},
   "outputs": [
    {
     "data": {
      "text/plain": [
       "['时间', '区域', '指标', '前值', '预测值', '公布值', '重要性', '利多 利空', '解读']"
      ]
     },
     "execution_count": 5,
     "metadata": {},
     "output_type": "execute_result"
    }
   ],
   "source": [
    "# 收集表头\n",
    "columns = [x.text for x in table.tr.findAll('th')]\n",
    "columns = [x.replace('\\xa0', ' ') for x in columns]\n",
    "columns"
   ]
  },
  {
   "cell_type": "code",
   "execution_count": 6,
   "metadata": {},
   "outputs": [],
   "source": [
    "# 构造dataFrame，准备存储表格\n",
    "width = len(columns)\n",
    "df = pd.DataFrame(data = np.full((height, width), ' ', dtype = 'U'), columns = columns)\n",
    "rows = [row for row in table.findAll('tr') if row.find('td') != None]\n"
   ]
  },
  {
   "cell_type": "code",
   "execution_count": 12,
   "metadata": {},
   "outputs": [],
   "source": [
    "# 逐行解析表格\n",
    "for i in range(len(rows)):\n",
    "    cells = rows[i].findAll('td')\n",
    "    \n",
    "    # 如果该行单元格数量于dataFrame列数相同\n",
    "    if len(cells) == width:\n",
    "        df.iloc[i] = [cell.text.replace(' ','').replace('\\n', '') for cell in cells]\n",
    "        \n",
    "        # 若单元格跨多行，则进行多行填充\n",
    "        for j in range(len(cells)):\n",
    "            if cells[j].has_attr('rowspan'):\n",
    "                z = int(cells[j].attrs['rowspan'])\n",
    "                df.iloc[i:i+z, j] = [cells[j].text.replace(' ','').replace('\\n', '')] * z\n",
    "    else:\n",
    "        w = len(cells)\n",
    "        df.iloc[i, width-w:] = [cell.text.replace(' ','').replace('\\n', '') for cell in cells]\n",
    "df.to_excel(\"20190414财经日历.xlsx\", encoding='utf8', index=False)"
   ]
  },
  {
   "cell_type": "code",
   "execution_count": null,
   "metadata": {},
   "outputs": [],
   "source": []
  }
 ],
 "metadata": {
  "kernelspec": {
   "display_name": "Python 3",
   "language": "python",
   "name": "python3"
  },
  "language_info": {
   "codemirror_mode": {
    "name": "ipython",
    "version": 3
   },
   "file_extension": ".py",
   "mimetype": "text/x-python",
   "name": "python",
   "nbconvert_exporter": "python",
   "pygments_lexer": "ipython3",
   "version": "3.7.1"
  }
 },
 "nbformat": 4,
 "nbformat_minor": 2
}
