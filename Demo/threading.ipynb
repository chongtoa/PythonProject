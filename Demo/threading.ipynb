{
 "cells": [
  {
   "cell_type": "code",
   "execution_count": 5,
   "metadata": {},
   "outputs": [
    {
     "name": "stdout",
     "output_type": "stream",
     "text": [
      "Process (632) start ...\n",
      "I (632) just created a child process (805)\n",
      "I am child process(805) and my parent is 805.\n"
     ]
    }
   ],
   "source": [
    "import os\n",
    "\n",
    "print(\"Process (%s) start ...\" %os.getpid())\n",
    "pid = os.fork()\n",
    "if pid == 0:\n",
    "    print(\"I am child process(%s) and my parent is %s.\" %(os.getpid(), os.getpid()))\n",
    "else:\n",
    "    print(\"I (%s) just created a child process (%s)\" %(os.getpid(), pid))"
   ]
  },
  {
   "cell_type": "code",
   "execution_count": 7,
   "metadata": {},
   "outputs": [
    {
     "name": "stdout",
     "output_type": "stream",
     "text": [
      "thread MainThread is running...\n",
      "thread LoopThread is running...\n",
      "thread LoopThread --->>> 1\n",
      "thread LoopThread --->>> 2\n",
      "thread LoopThread --->>> 3\n",
      "thread LoopThread --->>> 4\n",
      "thread LoopThread --->>> 5\n",
      "thread LoopThread end ...\n",
      "thread MainThread end...\n"
     ]
    }
   ],
   "source": [
    "import time, threading\n",
    "\n",
    "def loop():\n",
    "    print(\"thread %s is running...\"%threading.current_thread().name)\n",
    "    n = 0\n",
    "    while n < 5:\n",
    "        n = n + 1\n",
    "        print(\"thread %s --->>> %s\" %(threading.current_thread().name, n))\n",
    "        time.sleep(1)\n",
    "    print(\"thread %s end ...\" %threading.current_thread().name)\n",
    "    \n",
    "print(\"thread %s is running...\" %threading.current_thread().name)\n",
    "t = threading.Thread(target = loop, name = \"LoopThread\")\n",
    "t.start()\n",
    "t.join()\n",
    "print(\"thread %s end...\"%threading.current_thread().name)"
   ]
  },
  {
   "cell_type": "code",
   "execution_count": 8,
   "metadata": {},
   "outputs": [],
   "source": [
    "balance = 0\n",
    "lock = threading.Lock()\n",
    "\n",
    "def run_thread(n):\n",
    "    for i in range(100):\n",
    "        # 获取锁\n",
    "        lock.acquire()\n",
    "        try:\n",
    "            change_it(n)\n",
    "        finally:\n",
    "            # 释放锁\n",
    "            lock.release()"
   ]
  },
  {
   "cell_type": "code",
   "execution_count": 10,
   "metadata": {},
   "outputs": [
    {
     "name": "stdout",
     "output_type": "stream",
     "text": [
      "Hello, Alice (in Thread-A)\n",
      "Hello, Bod (in Thread-B)\n"
     ]
    }
   ],
   "source": [
    "import threading\n",
    "\n",
    "# 创建全局ThreadLocal对象\n",
    "local_school = threading.local()\n",
    "\n",
    "def process_student():\n",
    "    # 获取当前线程关联的student\n",
    "    std = local_school.student\n",
    "    print(\"Hello, %s (in %s)\" %(std, threading.current_thread().name))\n",
    "    \n",
    "def process_thread(name):\n",
    "    #绑定ThreadLocal的student\n",
    "    local_school.student = name\n",
    "    process_student()\n",
    "    \n",
    "t1 = threading.Thread(target = process_thread, args=(\"Alice\", ), name=\"Thread-A\")\n",
    "t2 = threading.Thread(target = process_thread, args=(\"Bod\", ), name=\"Thread-B\")\n",
    "t1.start()\n",
    "t2.start()\n",
    "t1.join()\n",
    "t2.join()"
   ]
  },
  {
   "cell_type": "code",
   "execution_count": null,
   "metadata": {},
   "outputs": [],
   "source": []
  }
 ],
 "metadata": {
  "kernelspec": {
   "display_name": "Python 3",
   "language": "python",
   "name": "python3"
  },
  "language_info": {
   "codemirror_mode": {
    "name": "ipython",
    "version": 3
   },
   "file_extension": ".py",
   "mimetype": "text/x-python",
   "name": "python",
   "nbconvert_exporter": "python",
   "pygments_lexer": "ipython3",
   "version": "3.7.1"
  }
 },
 "nbformat": 4,
 "nbformat_minor": 2
}
