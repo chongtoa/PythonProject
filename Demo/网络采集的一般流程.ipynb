{
 "cells": [
  {
   "cell_type": "code",
   "execution_count": 1,
   "metadata": {},
   "outputs": [
    {
     "data": {
      "text/plain": [
       "'<!Doctype html>\\n<html>\\n<head>\\n\\t<meta http-equiv=\"Content-Type\" content=\"text/html; charset=UTF-8\" />\\n  <meta property=\"qc:admins\" content=\"465267610762567726375\" />\\n\\t<meta name=\"viewport\" content=\"width=device-width, initial-scale=1.0\" />\\n\\t<title>Python3 教程 | 菜鸟教程</title>\\n\\n  <link rel=\\'dns-prefetch\\' href=\\'//s.w.org\\' />\\n<link rel=\\'stylesheet\\' id=\\'wp-block-library-css\\'  href=\\'http://www.runoob.com/wp-includes/css/dist/block-library/style.min.css?ver=5.1.1\\' type=\\'text/css\\' media=\\'all\\' />\\n<link rel=\"canonical\" href=\"http://www.runoob.com/python3/python3-tutorial.html\" />\\n<meta name=\"keywords\" content=\"Python3 教程,Python,python3,python教程\">\\n<meta name=\"description\" content=\"Python 3 教程    Python的3.0版本，常被称为Python 3000，或简称Py3k。相对于Python的早期版本，这是一个较大的升级。为了不带入过多的累赘，Python 3.0在设计的时候没有考虑向下兼容。 Python 介绍及安装教程我们在Python 2.X版本的教程中已有介绍，这里就不再赘述。 你也可以点击 Python2.x与3\\u200b\\u200b.x版本区别 来查看两者的不同。 本教程主要针对Python 3.x版本的学习..\">\\n\\t\\t\\n\\t<link rel=\"shortcut icon\" href=\"//static.runoob.com/images/favicon.ico\" mce_href=\"//static.runo'"
      ]
     },
     "execution_count": 1,
     "metadata": {},
     "output_type": "execute_result"
    }
   ],
   "source": [
    "import requests\n",
    "url = 'http://www.runoob.com/python3/python3-tutorial.html'\n",
    "\n",
    "r = requests.get(url)\n",
    "html = r.text.encode(r.encoding).decode()\n",
    "html[0:1000]"
   ]
  },
  {
   "cell_type": "code",
   "execution_count": 2,
   "metadata": {},
   "outputs": [
    {
     "data": {
      "text/plain": [
       "'ISO-8859-1'"
      ]
     },
     "execution_count": 2,
     "metadata": {},
     "output_type": "execute_result"
    }
   ],
   "source": [
    "r.encoding"
   ]
  },
  {
   "cell_type": "code",
   "execution_count": 3,
   "metadata": {},
   "outputs": [
    {
     "data": {
      "text/plain": [
       "'<!Doctype html>\\n<html>\\n<head>\\n<meta http-equiv=\"Content-Type\" content=\"text/html; charset=UTF-8\" />\\n<meta property=\"qc:admins\" content=\"465267610762567726375\" />\\n<meta name=\"viewport\" content=\"width=device-width, initial-scale=1.0\" />\\n<title>Python3 教程 | 菜鸟教程</title>\\n<link rel=\\'dns-prefetch\\' href=\\'//s.w.org\\' />\\n<link rel=\\'stylesheet\\' id=\\'wp-block-library-css\\' href=\\'http://www.runoob.com/wp-includes/css/dist/block-library/style.min.css?ver=5.1.1\\' type=\\'text/css\\' media=\\'all\\' />\\n<link rel=\"canonical\" href=\"http://www.runoob.com/python3/python3-tutorial.html\" />\\n<meta name=\"keywords\" content=\"Python3 教程,Python,python3,python教程\">\\n<meta name=\"description\" content=\"Python 3 教程    Python的3.0版本，常被称为Python 3000，或简称Py3k。相对于Python的早期版本，这是一个较大的升级。为了不带入过多的累赘，Python 3.0在设计的时候没有考虑向下兼容。 Python 介绍及安装教程我们在Python 2.X版本的教程中已有介绍，这里就不再赘述。 你也可以点击 Python2.x与3\\u200b\\u200b.x版本区别 来查看两者的不同。 本教程主要针对Python 3.x版本的学习..\">\\n<link rel=\"shortcut icon\" href=\"//static.runoob.com/images/favicon.ico\" mce_href=\"//static.runoob.com/images/favicon.ico\" type=\"image/x-icon\">\\n<link rel=\"stylesheet\" href=\"/wp-content/themes/runoob/style.css?v=1.149\" type=\"text/css\" media=\"all\" />\\n<link rel=\"stylesheet\" href=\"https://cdn.staticfile.org/font-awesome/4.7.0/css/font-awesome.min.css\" media=\"all\" />\\n<!--[if gte IE 9]><!-->\\n  <script src=\"//cdn.staticfile.org/jquery/2.0.3/jquery.min.js\"></script>\\n  <!--<![endif]-->\\n<!--[if lt IE 9]>\\n     <script src=\"//cdn.staticfile.org/jquery/1.9.1/jquery.min.js\"></script>\\n     <script src=\"//cdn.staticfile.org/html5shiv/r29/html5.min.js\"></script>\\n  <![endif]-->\\n<link rel=\"apple-touch-icon\" href=\"//static.runoob.com/images/icon/mobile-icon.png\"/>\\n<meta name=\"apple-mobile-web-app-title\" content=\"菜鸟教程\">\\n</head>\\n<body>\\n<div class=\"container logo-search\">\\n<div class=\"col search row-search-mobile\">\\n<form action=\"index.php\">\\n<input class=\"placeholder\" placeholder=\"搜索……\" name=\"s\" autocomplete=\"off\">\\n</form>\\n</div>\\n<div class=\"row\">\\n<div class=\"col logo\">\\n<h1><a href=\"/\">菜鸟教程 -- 学的不仅是技术，更是梦想！</a></h1>\\n</div>\\n<div class=\"col right-list\">\\n<button class=\"btn btn-responsive-nav btn-inverse\" data-toggle=\"collapse\" data-target=\".nav-main-collapse\" id=\"pull\" style=\"\"> <i class=\"fa fa-navicon\"></i> </button>\\n</div>\\n<div class=\"col search search-desktop last\">\\n<form action=\"//www.runoob.com/\" target=\"_blank\">\\n<input class=\"placeholder\" id=\"s\" name=\"s\" placeholder=\"搜索……\" autocomplete=\"off\">\\n</form>\\n</div>\\n</div>\\n</div>\\n<div class=\"container navigation\">\\n<div class=\"row\">\\n<div class=\"col nav\">\\n<ul class=\"pc-nav\">\\n<li><a href=\"//www.runoob.com/\">首页</a></li>\\n<li><a href=\"/html/html-tutorial.html\">HTML</a></li>\\n<li><a href=\"/css/css-tutorial.html\">CSS</a></li>\\n<li><a href=\"/js/js-tutorial.html\">JavaScript</a></li>\\n<li><a href=\"/jquery/jquery-tutorial.html\">jQuery</a></li>\\n<li><a href=\"/bootstrap/bootstrap-tutorial.html\">Bootstrap</a></li>\\n<li><a href=\"/sql/sql-tutorial.html\">SQL</a></li>\\n<li><a href=\"/mysql/mysql-tutorial.html\">MySQL</a></li>\\n<li><a href=\"/php/php-tutorial.html\">PHP</a></li>\\n<li><a href=\"/python/python-tutorial.html\">Python2</a></li>\\n<li><a href=\"/python3/python3-tutorial.html\">Python3</a></li>\\n<li><a href=\"/cprogramming/c-tutorial.html\">C</a></li>\\n<li><a href=\"/cplusplus/cpp-tutorial.html\">C++</a></li>\\n<li><a href=\"/csharp/csharp-tutorial.html\">C#</a></li>\\n<li><a href=\"/java/java-tutorial.html\">Java</a></li>\\n<li><a href=\"/browser-history\">本地书签</a></li>\\n</ul>\\n<ul class=\"mobile-nav\">\\n<li><a href=\"//www.runoob.com/\">首页</a></li>\\n<li><a href=\"/html/html-tutorial.html\">HTML</a></li>\\n<li><a href=\"/css/css-tutorial.html\">CSS</a></li>\\n<li><a href=\"/js/js-tutorial.html\">JS</a></li>\\n<li><a href=\"/browser-history\">本地书签</a></li>\\n<a href=\"javascript:void(0)\" class=\"search-reveal\">Search</a>\\n</ul>\\n</div>\\n</div>\\n</div>\\n<div class=\"container main\">\\n<div class=\"row\">\\n<div class=\"col left-column\">\\n<div class=\"tab\">Python 3 教程 <a data-cate=\"124\" href=\"javascript:void(0);\" title=\"夜间模式\" id=\"moon\"><i class=\"fa fa-moon-o\" aria-hidden=\"true\" style=\"font-size: 1.4em;float: right;margin: 4px 6px 0;\"></i></a>\\n<a data-cate=\"124\" style=\"display:none;\" href=\"javascript:void(0);\" title=\"日间模式\" id=\"sun\"><i class=\"fa fa-sun-o\" aria-hidden=\"true\" style=\"font-size: 1.4em;float: right;margin: 4px 6px 0;\"></i></a>\\n</div>\\n<div class=\"sidebar-box gallery-list\">\\n<div class=\"design\" id=\"leftcolumn\">\\n<a target=\"_top\" title=\"Python3 教程\" href=\"/python3/python3-tutorial.html\">\\nPython3 教程 </a>\\n<a target=\"_top\" title=\" Python3 环境搭建\" href=\"python3-install.html\"> Python3 环境搭建</a>\\n<a target=\"_top\" title=\" Python3 基础语法\" href=\"python3-basic-syntax.html\"> Python3 基础语法 </a>\\n<a target=\"_top\" title=\" Python3 基本数据类型\" href=\"python3-data-type.html\"> Python3 基本数据类型 </a> <a target=\"_top\" title=\"Python3 解释器\" href=\"/python3/python3-interpreter.html\">\\nPython3 解释器 </a>\\n<a target=\"_top\" title=\"Python3 注释\" href=\"/python3/python3-comment.html\">\\nPython3 注释 </a>\\n<a target=\"_top\" title=\"Python3 运算符\" href=\"python3-basic-operators.html\"> Python3 运算符 </a> <a target=\"_top\" title=\"Python3 数字(Number)\" href=\"/python3/python3-number.html\">\\nPython3 数字(Number) </a>\\n<a target=\"_top\" title=\"Python3 字符串\" href=\"/python3/python3-string.html\">\\nPython3 字符串 </a>\\n<a target=\"_top\" title=\"Python3 列表\" href=\"/python3/python3-list.html\">\\nPython3 列表 </a>\\n<a target=\"_top\" title=\"Python3 元组\" href=\"python3-tuple.html\"> Python3 元组 </a>\\n<a target=\"_top\" title=\"Python3 字典\" href=\"python3-dictionary.html\"> Python3 字典</a>\\n<a target=\"_top\" title=\"Python3 集合\" href=\"python3-set.html\"> Python3 集合</a> <a target=\"_top\" title=\"Python3 编程第一步\" href=\"/python3/python3-step1.html\">\\nPython3 编程第一步 </a>\\n<a target=\"_top\" title=\"Python3 条件控制\" href=\"/python3/python3-conditional-statements.html\">\\nPython3 条件控制 </a>\\n<a target=\"_top\" title=\"Python3 循环语句\" href=\"/python3/python3-loop.html\">\\nPython3 循环语句 </a>\\n<a target=\"_top\" title=\"Python3 迭代器与生成器\" href=\"python3-iterator-generator.html\"> Python3 迭代器与生成器</a> <a target=\"_top\" title=\"Python3 函数\" href=\"/python3/python3-function.html\">\\nPython3 函数 </a>\\n<a target=\"_top\" title=\"Python3 数据结构\" href=\"/python3/python3-data-structure.html\">\\nPython3 数据结构 </a>\\n<a target=\"_top\" title=\"Python3 模块\" href=\"/python3/python3-module.html\">\\nPython3 模块 </a>\\n<a target=\"_top\" title=\"Python3 输入和输出\" href=\"/python3/python3-inputoutput.html\">\\nPython3 输入和输出 </a>\\n<a target=\"_top\" title=\"Python3 File\" href=\"python3-file-methods.html\"> Python3 File </a>\\n<a target=\"_top\" title=\"Python3 OS\" href=\"python3-os-file-methods.html\"> Python3 OS </a> <a target=\"_top\" title=\"Python3 错误和异常\" href=\"/python3/python3-errors-execptions.html\">\\nPython3 错误和异常 </a>\\n<a target=\"_top\" title=\"Python3 面向对象\" href=\"/python3/python3-class.html\">\\nPython3 面向对象 </a>\\n<a target=\"_top\" title=\"Python3 标准库概览\" href=\"/python3/python3-stdlib.html\">\\nPython3 标准库概览 </a>\\n<a target=\"_top\" title=\"Python3 实例\" href=\"/python3/python3-examples.html\">\\nPython3 实例 </a>\\n<a target=\"_blank\" title=\"Python 测验\" href=\"/quiz/python-quiz.html\"> Python 测验 </a>\\n<br><h2 class=\"left\"><span class=\"left_h2\">Python3</span> 高级教程</h2> <a target=\"_top\" title=\"Python3 正则表达式\" href=\"/python3/python3-reg-expressions.html\">\\nPython3 正则表达式 </a>\\n<a target=\"_top\" title=\"Python3 CGI编程\" href=\"/python3/python3-cgi-programming.html\">\\nPython3 CGI编程 </a>\\n<a target=\"_top\" title=\"Python MySQL - mysql-connector 驱动\" href=\"python-mysql-connector.html\">Python3 MySQL(mysql-connector)</a> <a target=\"_top\" title=\"Python3 MySQL 数据库连接 &#8211; PyMySQL 驱动\" href=\"/python3/python3-mysql.html\">\\nPython3 MySQL(PyMySQL) </a>\\n<a target=\"_top\" title=\"Python3 网络编程\" href=\"/python3/python3-socket.html\">\\nPython3 网络编程 </a>\\n<a target=\"_top\" title=\"Python3 SMTP发送邮件\" href=\"/python3/python3-smtp.html\">\\nPython3 SMTP发送邮件 </a>\\n<a target=\"_top\" title=\"Python3 多线程\" href=\"/python3/python3-multithreading.html\">\\nPython3 多线程 </a>\\n<a target=\"_top\" title=\"Python3 XML 解析\" href=\"/python3/python3-xml-processing.html\">\\nPython3 XML 解析 </a>\\n<a target=\"_top\" title=\"Python3 JSON 数据解析\" href=\"/python3/python3-json.html\">\\nPython3 JSON </a>\\n<a target=\"_top\" title=\"Python3 日期和时间\" href=\"/python3/python3-date-time.html\">\\nPython3 日期和时间 </a>\\n<a target=\"_top\" title=\"Python3 内置函数\" href=\"/python3/python3-built-in-functions.html\">\\nPython3 内置函数 </a>\\n<a target=\"_top\" title=\"Python MongoDB\" href=\"/python3/python-mongodb.html\">\\nPython MongoDB </a>\\n<a target=\"_top\" title=\"Python uWSGI  安装配置\" href=\"/python3/python-uwsgi.html\">\\nPython uWSGI 安装配置 </a>\\n</div>\\n</div>\\n</div> <div class=\"col middle-column\">\\n<div class=\"article\">\\n<div class=\"article-heading-ad\" style=\"display: none;\">\\n</div>\\n<div class=\"previous-next-links\">\\n<div class=\"previous-design-link\"> </div>\\n<div class=\"next-design-link\"><a href=\"http://www.runoob.com/python3/python3-interpreter.html\" rel=\"next\"> Python3 解释器</a> <i style=\"font-size:16px;\" class=\"fa fa-arrow-right\" aria-hidden=\"true\"></i></div>\\n</div>\\n<div class=\"article-body\">\\n<div class=\"article-intro\" id=\"content\">\\n<h1>Python 3 教程</h1>\\n<div class=\"tutintro\">\\n<img src=\"//www.runoob.com/wp-content/uploads/2014/05/python3.png\" alt=\"python3\" width=\"150\" height=\"81\" class=\"alignnone size-full wp-image-7280\" />\\n<p>Python的3.0版本，常被称为Python 3000，或简称Py3k。相对于Python的早期版本，这是一个较大的升级。为了不带入过多的累赘，Python 3.0在设计的时候没有考虑向下兼容。</p>\\n<p>Python 介绍及安装教程我们在<a href=\"/python/python-tutorial.html\" target=\"_blank\">Python 2.X版本的教程</a>中已有介绍，这里就不再赘述。<a/>\\n<p>你也可以点击<a target=\"_top\" href=\"python-2x-3x.html\"> Python2.x与3\\u200b\\u200b.x版本区别 </a>来查看两者的不同。</p>\\n<p>本教程主要针对Python 3.x版本的学习，如果你使用的是Python 2.x版本请移步至<a href=\"/python/python-tutorial.html\" target=\"_blank\">Python 2.X版本的教程</a>。\\n<p id=\"python3book\" style=\"display:none;\"></p>\\n</div>\\n<hr>\\n<h2>查看python版本</h2>\\n<p>我们可以在命令窗口(Windows 使用 win+R 调出 cmd 运行框)使用以下命令查看我们使用的Python版本：</p>\\n<pre>\\r\\npython -V\\r\\n</pre>\\n<p>以上命令执行结果如下：</p>\\n<pre>\\r\\nPython 3.3.2\\r\\n</pre>\\n<p>你也可以进入Python的交互式编程模式，查看版本：</p>\\n<pre>\\r\\nPython 3.3.2 (v3.3.2:d047928ae3f6, May 16 2013, 00:03:43) [MSC v.1600 32 bit (Intel)] on win32\\r\\nType \"copyright\", \"credits\" or \"license()\" for more information.\\r\\n&gt;&gt;&gt; \\r\\n</pre>\\n<hr>\\n<h2>第一个Python3.x程序</h2>\\n<p>对于大多数程序语言，第一个入门编程代码便是\"Hello World！\"，以下代码为使用Python输出\"Hello World！\"：</p>\\n<div class=\"example\">\\n<h2 class=\"example\">实例(Python 3.0+)</h2>\\n<div class=\"example_code\">\\n<div class=\"hl-main\"><span class=\"hl-comment\">#!/usr/bin/python3</span><span class=\"hl-code\">\\n</span><span class=\"hl-identifier\">print</span><span class=\"hl-brackets\">(</span><span class=\"hl-quotes\">&quot;</span><span class=\"hl-string\">Hello, World!</span><span class=\"hl-quotes\">&quot;</span><span class=\"hl-brackets\">)</span></div>\\n</div><br>\\n<a target=\"_blank\" href=\"/try/runcode.php?filename=HelloWorld&type=python3\" class=\"showbtn\">运行实例 »</a>\\n</div>\\n<p>你可以将以上代码保存在 hello.py 文件中并使用 python 命令执行该脚本文件。</p>\\n<pre>\\r\\n$ python3 hello.py\\r\\n</pre>\\n<p>以上命令输出结果为：</p>\\n<pre>\\r\\nHello, World!\\r\\n</pre>\\n<hr><h2>相关内容：</h2>\\n<p> <a target=\"_blank\" href=\"/manual/pythontutorial3/docs/html/\">Python 3.6.3 中文手册</a></p> \\n</div>\\n</div>\\n<div class=\"previous-next-links\">\\n<div class=\"previous-design-link\"> </div>\\n<div class=\"next-design-link\"><a href=\"http://www.runoob.com/python3/python3-interpreter.html\" rel=\"next\"> Python3 解释器</a> <i style=\"font-size:16px;\" class=\"fa fa-arrow-right\" aria-hidden=\"true\"></i></div>\\n</div>\\n<style>\\r\\n.wrapper {\\r\\n  /*text-transform: uppercase; */\\r\\n  background: #ececec;\\r\\n  color: #555;\\r\\n  cursor: help;\\r\\n  font-family: \"Gill Sans\", Impact, sans-serif;\\r\\n  font-size: 20px;\\r\\n  position: relative;\\r\\n  text-align: center;\\r\\n  width: 200px;\\r\\n  -webkit-transform: translateZ(0); /* webkit flicker fix */\\r\\n  -webkit-font-smoothing: antialiased; /* webkit text rendering fix */\\r\\n}\\r\\n\\r\\n.wrapper .tooltip {\\r\\n  white-space: nowrap;\\r\\n  font-size: 14px;\\r\\n  text-align: left;\\r\\n  background: #96b97d;\\r\\n  bottom: 100%;\\r\\n  color: #fff;\\r\\n  display: block;\\r\\n  left: -25px;\\r\\n  margin-bottom: 15px;\\r\\n  opacity: 0;\\r\\n  padding: 14px;\\r\\n  pointer-events: none;\\r\\n  position: absolute;\\r\\n  \\r\\n  -webkit-transform: translateY(10px);\\r\\n     -moz-transform: translateY(10px);\\r\\n      -ms-transform: translateY(10px);\\r\\n       -o-transform: translateY(10px);\\r\\n          transform: translateY(10px);\\r\\n  -webkit-transition: all .25s ease-out;\\r\\n     -moz-transition: all .25s ease-out;\\r\\n      -ms-transition: all .25s ease-out;\\r\\n       -o-transition: all .25s ease-out;\\r\\n          transition: all .25s ease-out;\\r\\n  -webkit-box-shadow: 2px 2px 6px rgba(0, 0, 0, 0.28);\\r\\n     -moz-box-shadow: 2px 2px 6px rgba(0, 0, 0, 0.28);\\r\\n      -ms-box-shadow: 2px 2px 6px rgba(0, 0, 0, 0.28);\\r\\n       -o-box-shadow: 2px 2px 6px rgba(0, 0, 0, 0.28);\\r\\n          box-shadow: 2px 2px 6px rgba(0, 0, 0, 0.28);\\r\\n}\\r\\n.tooltip a {\\r\\n\\tcolor:#fff;\\r\\n}\\r\\n/* This bridges the gap so you can mouse into the tooltip without it disappearing */\\r\\n.wrapper .tooltip:before {\\r\\n  bottom: -20px;\\r\\n  content: \" \";\\r\\n  display: block;\\r\\n  height: 20px;\\r\\n  left: 0;\\r\\n  position: absolute;\\r\\n  width: 100%;\\r\\n}  \\r\\n\\r\\n/* CSS Triangles - see Trevor\\'s post */\\r\\n.wrapper .tooltip:after {\\r\\n  border-left: solid transparent 10px;\\r\\n  border-right: solid transparent 10px;\\r\\n  border-top: solid #96b97d 10px;\\r\\n  bottom: -10px;\\r\\n  content: \" \";\\r\\n  height: 0;\\r\\n  left: 20%;\\r\\n  margin-left: -13px;\\r\\n  position: absolute;\\r\\n  width: 0;\\r\\n}\\r\\n.wrapper .tooltip1 {\\r\\n\\tmargin-left: 50px;\\r\\n\\tpadding-top: 0px;\\r\\n}\\r\\n.wrapper:hover .tooltip {\\r\\n  opacity: 1;\\r\\n  pointer-events: auto;\\r\\n  -webkit-transform: translateY(0px);\\r\\n     -moz-transform: translateY(0px);\\r\\n      -ms-transform: translateY(0px);\\r\\n       -o-transform: translateY(0px);\\r\\n          transform: translateY(0px);\\r\\n}\\r\\n\\r\\n/* IE can just show/hide with no transition */\\r\\n.lte8 .wrapper .tooltip {\\r\\n  display: none;\\r\\n}\\r\\n\\r\\n.lte8 .wrapper:hover .tooltip {\\r\\n  display: block;\\r\\n}\\r\\n\\r\\n</style>\\n<div class=\"title\" id=\"comments\">\\n<h2 class=\"\">\\n<div class=\"altblock\">\\n<i style=\"font-size:28px;margin-top: 8px;\" class=\"fa fa-plus-square\" aria-hidden=\"true\"></i>\\n</div>\\n<span class=\"mw-headline\" id=\"qa_headline\">4 篇笔记</span>\\n<span class=\"mw-headline\" id=\"user_add_note\" style=\"float:right;line-height: 62px;padding-right: 14px;\"><i class=\"fa fa-pencil-square-o\" aria-hidden=\"true\"></i> 写笔记</span>\\n</h2>\\n</div>\\n<div id=\"postcomments\" style=\"display:none;\">\\n<ol class=\"commentlist\">\\n<li class=\"comment even thread-even depth-1\" id=\"comment-21438\"><span class=\"comt-f\">#4</span><div class=\"comt-avatar wrapper\"><i style=\"font-size:36px;\" class=\"fa fa-user-circle\" aria-hidden=\"true\"></i><div class=\"tooltip\"><p><i class=\"fa fa-user\" aria-hidden=\"true\"></i>&nbsp;&nbsp;&nbsp;helloworld</p><p><i class=\"fa fa-envelope\" aria-hidden=\"true\"></i>&nbsp;&nbsp;229***137@qq.com</p></div></div><div class=\"comt-main\" id=\"div-comment-21438\"><p data-title=\"Python #!/usr/bin/python 解析\" data-commid=\"22375, 26799\">关于实例中第一行代码<span class=\"marked\">#!/usr/bin/python3</span> 的理解：</p>\\n<p>分成两种情况：</p>\\n<p><strong>（1）</strong>如果调用python脚本时，使用:</p>\\n<pre>python script.py </pre>\\n<p><span class=\"marked\">#!/usr/bin/python</span> 被忽略，等同于注释。</p>\\n<p><strong>（2）</strong>如果调用python脚本时，使用:</p>\\n<pre>./script.py </pre>\\n<p><span class=\"marked\">#!/usr/bin/python</span> 指定解释器的路径。</p>\\n<div class=\"comt-meta wrapper\"><span class=\"comt-author\"><a target=\"_blank\" href=\"/note/21438\">helloworld</a><div class=\"tooltip tooltip1\"><p><i class=\"fa fa-user\" aria-hidden=\"true\"></i>&nbsp;&nbsp;&nbsp;helloworld</p><p><i class=\"fa fa-envelope\" aria-hidden=\"true\"></i>&nbsp;&nbsp;229***137@qq.com</p></div></span>1年前 (2017-12-10)</div></div></li>\\n<li class=\"comment odd alt thread-odd thread-alt depth-1\" id=\"comment-22375\"><span class=\"comt-f\">#3</span><div class=\"comt-avatar wrapper\"><i style=\"font-size:36px;\" class=\"fa fa-user-circle\" aria-hidden=\"true\"></i><div class=\"tooltip\"><p><i class=\"fa fa-user\" aria-hidden=\"true\"></i>&nbsp;&nbsp;&nbsp;Xander663</p><p><i class=\"fa fa-envelope\" aria-hidden=\"true\"></i>&nbsp;&nbsp;xan***1998@163.com</p></div></div><div class=\"comt-main\" id=\"div-comment-22375\"><p>再解释一下第一行代码<code><b>#!/usr/bin/python3</b></code></p><p>这句话仅仅在linux或unix系统下有作用，在windows下无论在代码里加什么都无法直接运行一个文件名后缀为.py的脚本，因为在windows下文件名对文件的打开方式起了决定性作用。</p><p></p><div class=\"comt-meta wrapper\"><span class=\"comt-author\"><a target=\"_blank\" href=\"javascript:;\">Xander663</a><div class=\"tooltip tooltip1\"><p><i class=\"fa fa-user\" aria-hidden=\"true\"></i>&nbsp;&nbsp;&nbsp;Xander663</p><p><i class=\"fa fa-envelope\" aria-hidden=\"true\"></i>&nbsp;&nbsp;xan***1998@163.com</p></div></span>1年前 (2017-12-29)</div></div></li>\\n<li class=\"comment even thread-even depth-1\" id=\"comment-26799\"><span class=\"comt-f\">#2</span><div class=\"comt-avatar wrapper\"><i style=\"font-size:36px;\" class=\"fa fa-user-circle\" aria-hidden=\"true\"></i><div class=\"tooltip\"><p><i class=\"fa fa-user\" aria-hidden=\"true\"></i>&nbsp;&nbsp;&nbsp;j88r</p><p><i class=\"fa fa-envelope\" aria-hidden=\"true\"></i>&nbsp;&nbsp;244***88@qq.com</p></div></div><div class=\"comt-main\" id=\"div-comment-26799\"><p>再解释一下第一行代码 <span class=\"marked\">#!/usr/bin/python3</span></p>\\n<p>这句话仅仅在 linux 或 unix 系统下有作用，在 windows 下无论在代码里加什么都无法直接运行一个文件名后缀为 .py 的脚本，因为在 windows 下文件名对文件的打开方式起了决定性作用。</p>\\n<p>这个理论不完全正确，至少我知道的不是这样，我在WIN下安装了 64 位的 python,然后下载了 32 位的 embeddable 版，然后在第一行加了这个，把脚本指向 32 位 python 的位置，然后运行正常，是按 32 位版的运行。</p>\\n<p>至于原因，现在 python 安装的时候会在 windows 目录下放两个文件 py.exe 和 pyw.exe，然后文件类型指向这个这两个文件，可能是由这两个文件判断由哪个 python.exe 去执行脚本。</p>\\n<div class=\"comt-meta wrapper\"><span class=\"comt-author\"><a target=\"_blank\" href=\"javascript:;\">j88r</a><div class=\"tooltip tooltip1\"><p><i class=\"fa fa-user\" aria-hidden=\"true\"></i>&nbsp;&nbsp;&nbsp;j88r</p><p><i class=\"fa fa-envelope\" aria-hidden=\"true\"></i>&nbsp;&nbsp;244***88@qq.com</p></div></span>12个月前 (04-30)</div></div></li>\\n<li class=\"comment odd alt thread-odd thread-alt depth-1\" id=\"comment-36514\"><span class=\"comt-f\">#1</span><div class=\"comt-avatar wrapper\"><i style=\"font-size:36px;\" class=\"fa fa-user-circle\" aria-hidden=\"true\"></i><div class=\"tooltip\"><p><i class=\"fa fa-user\" aria-hidden=\"true\"></i>&nbsp;&nbsp;&nbsp;tengjiexx</p><p><i class=\"fa fa-envelope\" aria-hidden=\"true\"></i>&nbsp;&nbsp;104***8544@qq.com</p><p><i class=\"fa fa-external-link\" aria-hidden=\"true\"></i> <a rel=\"nofollow\" target=\"_blank\" href=\"https://blog.csdn.net/fenglongmiao/article/details/80319875\">&nbsp;&nbsp;参考地址</a></p></div></div><div class=\"comt-main\" id=\"div-comment-36514\"><p data-title=\"#!/usr/bin/python3 和 #!/usr/bin/env python3 的区别\">脚本语言的第一行，目的就是指出，你想要你的这个文件中的代码用什么可执行程序去运行它，就这么简单。</p>\\n<p><strong>#!/usr/bin/python3</strong> 是告诉操作系统执行这个脚本的时候，调用 /usr/bin 下的 python3 解释器；</p>\\n<p><strong>#!/usr/bin/env python3</strong> 这种用法是为了防止操作系统用户没有将 python3 装在默认的 /usr/bin 路径里。当系统看到这一行的时候，首先会到 env 设置里查找 python3 的安装路径，再调用对应路径下的解释器程序完成操作。</p>\\n<p><strong>#!/usr/bin/python3</strong> 相当于写死了 <strong>python3</strong> 路径;</p>\\n<p><strong>#!/usr/bin/env python3</strong> 会去环境设置寻找 python3 目录，<strong>推荐这种写法</strong>。</p><div class=\"comt-meta wrapper\"><span class=\"comt-author\"><a target=\"_blank\" href=\"/note/36514\">tengjiexx</a><div class=\"tooltip tooltip1\"><p><i class=\"fa fa-user\" aria-hidden=\"true\"></i>&nbsp;&nbsp;&nbsp;tengjiexx</p><p><i class=\"fa fa-envelope\" aria-hidden=\"true\"></i>&nbsp;&nbsp;104***8544@qq.com</p><p><i class=\"fa fa-external-link\" aria-hidden=\"true\"></i> <a rel=\"nofollow\" target=\"_blank\" href=\"https://blog.csdn.net/fenglongmiao/article/details/80319875\">&nbsp;&nbsp;参考地址</a></p></div></span>5个月前 (11-01)</div></div></li>\\n</ol>\\n<div class=\"pagenav\">\\n</div>\\n</div>\\n<div id=\"respond\" class=\"no_webshot\">\\n<div class=\"comment-signarea\" style=\"display:none; padding: 20px 20px;\">\\n<h3 class=\"text-muted\" id=\"share_code\" style=\"color: #799961;\"><i class=\"fa fa-pencil-square-o\" aria-hidden=\"true\"></i> 点我分享笔记</h3>\\n</div>\\n<form action=\"/wp-content/themes/runoob/option/addnote.php\" method=\"post\" id=\"commentform\" style=\"display:none;\">\\n<div class=\"comt\">\\n<div class=\"comt-title\">\\n<i style=\"font-size:36px;\" class=\"fa fa-user-circle\" aria-hidden=\"true\"></i> <p><a id=\"cancel-comment-reply-link\" href=\"javascript:;\">取消</a></p>\\n</div>\\n<div class=\"comt-box\">\\n<div id=\"mded\"></div>\\n<div class=\"comt-ctrl\">\\n<div class=\"comt-tips\"><input type=\\'hidden\\' name=\\'comment_post_ID\\' value=\\'7279\\' id=\\'comment_post_ID\\' />\\n<input type=\\'hidden\\' name=\\'comment_parent\\' id=\\'comment_parent\\' value=\\'0\\' />\\n</div>\\n<button type=\"submit\" name=\"submit\" id=\"submit\" tabindex=\"5\"><i class=\"fa fa-pencil\" aria-hidden=\"true\"></i> 分享笔记</button>\\n</div>\\n</div>\\n<div class=\"comt-comterinfo\">\\n<ul id=\"comment-author-info\">\\n<li class=\"form-inline\"><label class=\"hide\" for=\"author\">昵称</label><input class=\"ipt\" type=\"text\" name=\"author\" id=\"author\" value=\"\" tabindex=\"2\" placeholder=\"昵称\"><span class=\"text-muted\">昵称 (必填)</span></li>\\n<li class=\"form-inline\"><label class=\"hide\" for=\"email\">邮箱</label><input class=\"ipt\" type=\"text\" name=\"email\" id=\"email\" value=\"\" tabindex=\"3\" placeholder=\"邮箱\"><span class=\"text-muted\">邮箱 (必填)</span></li>\\n<li class=\"form-inline\"><label class=\"hide\" for=\"url\">引用地址</label><input class=\"ipt\" type=\"text\" name=\"url\" id=\"url\" value=\"\" tabindex=\"4\" placeholder=\"引用地址\"><span class=\"text-muted\">引用地址</span></li>\\n</ul>\\n</div>\\n</div>\\n</form>\\n</div>\\n<script type=\"text/javascript\">\\r\\n$(function() {\\r\\n\\t//初始化编辑器\\r\\n\\t\\r\\n\\tvar editor = new Simditor({\\r\\n\\t  textarea: $(\\'#mded\\'),\\r\\n\\t  placeholder: \\'写笔记...\\',\\r\\n\\t  upload:false,\\r\\n\\t // upload: {url:\\'/api/comment_upload_file.php\\',params: null,fileKey: \\'upload_file\\',connectionCount: 1,leaveConfirm: \\'文件正在上传，您确定离开?\\'},\\r\\n\\t  defaultImage: \\'http://www.runoob.com/images/logo.png\\',\\r\\n\\t  codeLanguages: \\'\\',\\r\\n\\t  toolbar: [  \\'bold\\',\\'code\\',\\'ul\\',\\'ol\\',\\'image\\' ]\\r\\n\\t});\\r\\n\\teditor.on(\\'selectionchanged\\', function() {\\r\\n\\t\\t$(\".code-popover\").hide();\\r\\n\\t});\\r\\n\\r\\n\\t// 提交数据\\r\\n\\t$(\"#share_code\").click(function() {\\r\\n\\t\\t$(\".comment-signarea\").hide();\\r\\n\\t\\t$(\"#commentform\").show();\\r\\n\\t\\t\\r\\n\\t});\\r\\n\\t$(\"#user_add_note\").click(function() {\\r\\n\\t\\t$(\".comment-signarea\").hide();\\r\\n\\t\\t$(\"#commentform\").show();\\r\\n\\t\\t$(\\'html, body\\').animate({\\r\\n       \\t    scrollTop: $(\"#respond\").offset().top\\r\\n    \\t}, 200);\\r\\n\\t});\\r\\n\\r\\n\\t// 提交笔记\\r\\n\\tvar commentform=$(\\'#commentform\\');\\r\\n\\tcommentform.prepend(\\'<div id=\"comment-status\" style=\"display:none;\" ></div>\\');\\r\\n\\tvar statusdiv=$(\\'#comment-status\\');\\r\\n\\t\\r\\n\\tcommentform.submit(function(e){\\r\\n\\t\\te.preventDefault();\\r\\n\\t\\tvar noteContent = editor.getValue();\\r\\n\\t\\t// console.log(noteContent);\\r\\n\\t\\tnoteContent = noteContent.replace(/<pre><code>/g,\"<pre>\");\\r\\n\\t\\tnoteContent = noteContent.replace(/<\\\\/code><\\\\/pre>/g,\"</pre>\");\\r\\n\\t\\t\\r\\n\\t\\t// 系列化表单数据\\r\\n\\t\\tvar comment_parent = 0;\\r\\n\\t\\tvar is_user_logged_in = $(\"#is_user_logged_in\").val();\\r\\n\\t\\tvar comment_post_ID =  7279;\\r\\n\\t\\tvar _wp_unfiltered_html_comment = $(\"#_wp_unfiltered_html_comment\").val();\\r\\n\\t\\tvar comment = noteContent;\\r\\n\\t\\tvar author = $(\"#author\").val();\\r\\n\\t\\tvar url = $(\"#url\").val();\\r\\n\\t\\tvar email = $(\"#email\").val();\\r\\n\\t\\tif(isBlank(author) && is_user_logged_in==0) {\\r\\n\\t\\t\\tstatusdiv.html(\\'<p  class=\"ajax-error\">请输入昵称！</p>\\').show();\\r\\n\\t\\t} else if(isBlank(email)  && is_user_logged_in==0) {\\r\\n\\t\\t\\tstatusdiv.html(\\'<p  class=\"ajax-error\">请输入邮箱！</p>\\').show();\\r\\n\\t\\t} else {\\r\\n\\t\\t\\t// var formdata=commentform.serialize() + \"&comment=\" + noteContent ;\\r\\n\\t\\t\\t// 添加状态信息\\r\\n\\t\\t\\tstatusdiv.html(\\'<p>Processing...</p>\\').show();\\r\\n\\t\\t\\t// 获取表单提交地址\\r\\n\\t\\t\\tvar formurl=commentform.attr(\\'action\\');\\r\\n\\t\\t\\t\\r\\n\\t\\t\\t// 异步提交\\r\\n\\t\\t\\t$.ajax({\\r\\n\\t\\t\\t\\t\\ttype: \\'post\\',\\r\\n\\t\\t\\t\\t\\turl: formurl,\\r\\n\\t\\t\\t\\t\\tdataType:\\'json\\',\\r\\n\\t\\t\\t\\t\\tdata: {\"comment_parent\":comment_parent,\"comment_post_ID\":comment_post_ID, \"_wp_unfiltered_html_comment\":_wp_unfiltered_html_comment,\"comment\":comment,\"url\":url, \"email\":email,\"author\":author},\\r\\n\\t\\t\\t\\t\\terror: function(XMLHttpRequest, textStatus, errorThrown){\\r\\n\\t\\t\\t\\t\\tstatusdiv.html(\\'<p class=\"ajax-error\" >数据不完整或表单提交太快了！</p>\\').show();\\r\\n\\t\\t\\t\\t},\\r\\n\\t\\t\\t\\tsuccess: function(data, textStatus){\\r\\n\\t\\t\\t\\t\\tif(data.errorno==\"0\") {\\r\\n\\t\\t\\t\\t\\t\\t$(\"#submit\").prop(\\'disabled\\', true);\\r\\n\\t\\t\\t\\t\\t\\tstatusdiv.html(\\'<p class=\"ajax-success\" >笔记已提交审核，感谢分享笔记！</p>\\').show();\\r\\n\\t\\t\\t\\t\\t\\talert(\\'笔记已提交审核，感谢分享笔记！\\');\\r\\n\\t\\t\\t\\t\\t}else{\\r\\n\\t\\t\\t\\t\\t\\tstatusdiv.html(\\'<p class=\"ajax-error\" >\\'+data.msg+\\'</p>\\').show();\\r\\n\\t\\t\\t\\t\\t}\\r\\n\\t\\t\\t\\t\\tcommentform.find(\\'textarea[name=comment]\\').val(\\'\\');\\r\\n\\t\\t\\t\\t}\\r\\n\\t\\t\\t});\\r\\n\\t\\t\\tsetTimeout(function(){\\r\\n\\t\\t        $(\"#submit\").prop(\\'disabled\\', false);\\r\\n\\t\\t    }, 10*1000);\\r\\n\\t\\t}\\r\\n\\t\\treturn false;\\r\\n\\r\\n\\t});\\r\\n\\t\\r\\n});\\r\\nfunction isBlank(str) {\\r\\n    return (!str || /^\\\\s*$/.test(str));\\r\\n}\\r\\n</script>\\n<link rel=\"stylesheet\" href=\"/wp-content/themes/runoob/assets/css/qa.css?1.42\">\\n<link rel=\"stylesheet\" type=\"text/css\" href=\"//cdn.staticfile.org/simditor/2.3.6/styles/simditor.min.css\" />\\n<script type=\"text/javascript\" src=\"//static.runoob.com/assets/simditor/2.3.6/scripts/module.js\"></script>\\n<script type=\"text/javascript\" src=\"//static.runoob.com/assets/simditor/2.3.6/scripts/hotkeys.js\"></script>\\n<script type=\"text/javascript\" src=\"//static.runoob.com/assets/simditor/2.3.6/scripts/uploader.js\"></script>\\n<script type=\"text/javascript\" src=\"//cdn.staticfile.org/simditor/2.3.6/lib/simditor.min.js\"></script> <div class=\"sidebar-box ad-box ad-box-large\">\\n<div id=\"ad-336280\">\\n<script async src=\"//pagead2.googlesyndication.com/pagead/js/adsbygoogle.js\"></script>\\n<ins class=\"adsbygoogle\" style=\"display:block\" data-ad-client=\"ca-pub-5751451760833794\" data-ad-slot=\"1691338467\" data-ad-format=\"auto\"></ins>\\n<script>\\n\\t\\t(adsbygoogle = window.adsbygoogle || []).push({});\\n\\t\\t</script>\\n</div>\\n</div>\\n</div>\\n</div>\\n<div class=\"fivecol last right-column\">\\n<style>\\r\\n.sidebar-tree .double-li {\\r\\n\\twidth:300px;\\r\\n}\\r\\n.sidebar-tree .double-li li {\\r\\n    width: 44%;\\r\\n    line-height: 1.5em;\\r\\n    border-bottom: 1px solid #ccc;\\r\\n    float: left;\\r\\n    display: inline;\\r\\n}\\r\\n</style>\\n<div class=\"sidebar-box ad-box ad-box-large\">\\n<div class=\"sidebar-box advertise-here\" style=\"margin: 0 auto;\">\\n<a href=\"javascript:void(0);\" style=\"font-size: 16px; color:#64854c;font-weight:bold;\"> <i class=\"fa fa-list\" aria-hidden=\"true\"></i> 分类导航</a>\\n</div>\\n<div class=\"sidebar-box sidebar-cate\">\\n<div class=\"sidebar-tree\">\\n<ul><li style=\"margin: 0;\"><a href=\"javascript:void(0);\" class=\"tit\"> HTML / CSS</a><ul class=\"double-li\"><li><a title=\"HTML 教程\" href=\"//www.runoob.com/html/html-tutorial.html\">HTML 教程</a></li><li><a title=\"HTML5 教程\" href=\"//www.runoob.com/html/html5-intro.html\">HTML5 教程</a></li><li><a title=\"CSS 教程\" href=\"//www.runoob.com/css/css-tutorial.html\">CSS 教程</a></li><li><a title=\"CSS3 教程\" href=\"//www.runoob.com/css3/css3-tutorial.html\">CSS3 教程</a></li><li><a title=\"Bootstrap3 教程\" href=\"//www.runoob.com/bootstrap/bootstrap-tutorial.html\">Bootstrap3 教程</a></li><li><a title=\"Bootstrap4 教程\" href=\"//www.runoob.com/bootstrap4/bootstrap4-tutorial.html\">Bootstrap4 教程</a></li><li><a title=\"Font Awesome 教程\" href=\"//www.runoob.com/font-awesome/fontawesome-tutorial.html\">Font Awesome 教程</a></li><li><a title=\"Foundation 教程\" href=\"//www.runoob.com/foundation/foundation-tutorial.html\">Foundation 教程</a></li></ul></li><li style=\"margin: 0;\"><a href=\"javascript:void(0);\" class=\"tit\"> JavaScript</a><ul class=\"double-li\"><li><a title=\"JavaScript 教程\" href=\"//www.runoob.com/js/js-tutorial.html\">JavaScript 教程</a></li><li><a title=\"HTML DOM 教程\" href=\"//www.runoob.com/htmldom/htmldom-tutorial.html\">HTML DOM 教程</a></li><li><a title=\"jQuery 教程\" href=\"//www.runoob.com/jquery/jquery-tutorial.html\">jQuery 教程</a></li><li><a title=\"AngularJS 教程\" href=\"//www.runoob.com/angularjs/angularjs-tutorial.html\">AngularJS 教程</a></li><li><a title=\"AngularJS2 教程\" href=\"//www.runoob.com/angularjs2/angularjs2-tutorial.html\">AngularJS2 教程</a></li><li><a title=\"Vue.js 教程\" href=\"//www.runoob.com/vue2/vue-tutorial.html\">Vue.js 教程</a></li><li><a title=\"React 教程\" href=\"//www.runoob.com/react/react-tutorial.html\">React 教程</a></li><li><a title=\"TypeScript 教程\" href=\"//www.runoob.com/typescript/ts-tutorial.html\">TypeScript 教程</a></li><li><a title=\"jQuery UI 教程\" href=\"//www.runoob.com/jqueryui/jqueryui-tutorial.html\">jQuery UI 教程</a></li><li><a title=\"jQuery EasyUI 教程\" href=\"//www.runoob.com/jeasyui/jqueryeasyui-tutorial.html\">jQuery EasyUI 教程</a></li><li><a title=\"Node.js 教程\" href=\"//www.runoob.com/nodejs/nodejs-tutorial.html\">Node.js 教程</a></li><li><a title=\"AJAX 教程\" href=\"//www.runoob.com/ajax/ajax-tutorial.html\">AJAX 教程</a></li><li><a title=\"JSON 教程\" href=\"//www.runoob.com/json/json-tutorial.html\">JSON 教程</a></li><li><a title=\"Highcharts 教程\" href=\"//www.runoob.com/highcharts/highcharts-tutorial.html\">Highcharts 教程</a></li><li><a title=\"Google 地图 教程\" href=\"//www.runoob.com/googleapi/google-maps-basic.html\">Google 地图 教程</a></li></ul></li><li style=\"margin: 0;\"><a href=\"javascript:void(0);\" class=\"tit\"> 服务端</a><ul class=\"double-li\"><li><a title=\"PHP 教程\" href=\"//www.runoob.com/php/php-tutorial.html\">PHP 教程</a></li><li><a title=\"Python 教程\" href=\"//www.runoob.com/python/python-tutorial.html\">Python 教程</a></li><li><a title=\"Python3 教程\" href=\"//www.runoob.com/python3/python3-tutorial.html\">Python3 教程</a></li><li><a title=\"Django 教程\" href=\"//www.runoob.com/django/django-tutorial.html\">Django 教程</a></li><li><a title=\"Linux 教程\" href=\"//www.runoob.com/linux/linux-tutorial.html\">Linux 教程</a></li><li><a title=\"Docker 教程\" href=\"//www.runoob.com/docker/docker-tutorial.html\">Docker 教程</a></li><li><a title=\"Ruby 教程\" href=\"//www.runoob.com/ruby/ruby-tutorial.html\">Ruby 教程</a></li><li><a title=\"Java 教程\" href=\"//www.runoob.com/java/java-tutorial.html\">Java 教程</a></li><li><a title=\"C 教程\" href=\"//www.runoob.com/c/c-tutorial.html\">C 教程</a></li><li><a title=\"C++ 教程\" href=\"//www.runoob.com/cplusplus/cpp-tutorial.html\">C++ 教程</a></li><li><a title=\"Perl 教程\" href=\"//www.runoob.com/perl/perl-tutorial.html\">Perl 教程</a></li><li><a title=\"Servlet 教程\" href=\"//www.runoob.com/servlet/servlet-tutorial.html\">Servlet 教程</a></li><li><a title=\"JSP 教程\" href=\"//www.runoob.com/jsp/jsp-tutorial.html\">JSP 教程</a></li><li><a title=\"Lua 教程\" href=\"//www.runoob.com/lua/lua-tutorial.html\">Lua 教程</a></li><li><a title=\"Scala 教程\" href=\"//www.runoob.com/scala/scala-tutorial.html\">Scala 教程</a></li><li><a title=\"Go 教程\" href=\"//www.runoob.com/go/go-tutorial.html\">Go 教程</a></li><li><a title=\"设计模式\" href=\"//www.runoob.com/design-pattern/design-pattern-tutorial.html\">设计模式</a></li><li><a title=\"正则表达式\" href=\"//www.runoob.com/regexp/regexp-tutorial.html\">正则表达式</a></li><li><a title=\"Maven 教程\" href=\"//www.runoob.com/maven/maven-tutorial.html\">Maven 教程</a></li><li><a title=\"NumPy 教程\" href=\"//www.runoob.com/numpy/numpy-tutorial.html\">NumPy 教程</a></li><li><a title=\"ASP 教程\" href=\"//www.runoob.com/asp/asp-tutorial.html\">ASP 教程</a></li><li><a title=\"AppML 教程\" href=\"//www.runoob.com/appml/appml-tutorial.html\">AppML 教程</a></li><li><a title=\"VBScript 教程\" href=\"//www.runoob.com/vbscript/vbscript-tutorial.html\">VBScript 教程</a></li></ul></li><li style=\"margin: 0;\"><a href=\"javascript:void(0);\" class=\"tit\"> 数据库</a><ul class=\"double-li\"><li><a title=\"SQL 教程\" href=\"//www.runoob.com/sql/sql-tutorial.html\">SQL 教程</a></li><li><a title=\"Mysql 教程\" href=\"//www.runoob.com/mysql/mysql-tutorial.html\">Mysql 教程</a></li><li><a title=\"SQLite 教程\" href=\"//www.runoob.com/sqlite/sqlite-tutorial.html\">SQLite 教程</a></li><li><a title=\"MongoDB 教程\" href=\"//www.runoob.com/mongodb/mongodb-tutorial.html\">MongoDB 教程</a></li><li><a title=\"Redis 教程\" href=\"//www.runoob.com/redis/redis-tutorial.html\">Redis 教程</a></li><li><a title=\"Memcached 教程\" href=\"//www.runoob.com/Memcached/Memcached-tutorial.html\">Memcached 教程</a></li></ul></li><li style=\"margin: 0;\"><a href=\"javascript:void(0);\" class=\"tit\"> 移动端</a><ul class=\"double-li\"><li><a title=\"Android 教程\" href=\"//www.runoob.com/w3cnote/android-tutorial-intro.html\">Android 教程</a></li><li><a title=\"Swift 教程\" href=\"//www.runoob.com/swift/swift-tutorial.html\">Swift 教程</a></li><li><a title=\"jQuery Mobile 教程\" href=\"//www.runoob.com/jquerymobile/jquerymobile-tutorial.html\">jQuery Mobile 教程</a></li><li><a title=\"ionic 教程\" href=\"//www.runoob.com/ionic/ionic-tutorial.html\">ionic 教程</a></li><li><a title=\"Kotlin 教程\" href=\"//www.runoob.com/kotlin/kotlin-tutorial.html\">Kotlin 教程</a></li></ul></li><li style=\"margin: 0;\"><a href=\"javascript:void(0);\" class=\"tit\"> XML 教程</a><ul class=\"double-li\"><li><a title=\"XML 教程\" href=\"//www.runoob.com/xml/xml-tutorial.html\">XML 教程</a></li><li><a title=\"DTD 教程\" href=\"//www.runoob.com/dtd/dtd-tutorial.html\">DTD 教程</a></li><li><a title=\"XML DOM 教程\" href=\"//www.runoob.com/dom/dom-tutorial.html\">XML DOM 教程</a></li><li><a title=\"XSLT 教程\" href=\"//www.runoob.com/xsl/xsl-tutorial.html\">XSLT 教程</a></li><li><a title=\"XPath 教程\" href=\"//www.runoob.com/xpath/xpath-tutorial.html\">XPath 教程</a></li><li><a title=\"XQuery 教程\" href=\"//www.runoob.com/xquery/xquery-tutorial.html\">XQuery 教程</a></li><li><a title=\"XLink 教程\" href=\"//www.runoob.com/xlink/xlink-tutorial.html\">XLink 教程</a></li><li><a title=\"XPointer 教程\" href=\"//www.runoob.com/xlink/xlink-tutorial.html\">XPointer 教程</a></li><li><a title=\"XML Schema 教程\" href=\"//www.runoob.com/schema/schema-tutorial.html\">XML Schema 教程</a></li><li><a title=\"XSL-FO 教程\" href=\"//www.runoob.com/xslfo/xslfo-tutorial.html\">XSL-FO 教程</a></li><li><a title=\"SVG 教程\" href=\"//www.runoob.com/svg/svg-tutorial.html\">SVG 教程</a></li></ul></li><li style=\"margin: 0;\"><a href=\"javascript:void(0);\" class=\"tit\"> ASP.NET</a><ul class=\"double-li\"><li><a title=\"ASP.NET 教程\" href=\"//www.runoob.com/aspnet/aspnet-tutorial.html\">ASP.NET 教程</a></li><li><a title=\"C# 教程\" href=\"//www.runoob.com/csharp/csharp-tutorial.html\">C# 教程</a></li><li><a title=\"Web Pages 教程\" href=\"//www.runoob.com/aspnet/webpages-intro.html\">Web Pages 教程</a></li><li><a title=\"Razor 教程\" href=\"//www.runoob.com/aspnet/razor-intro.html\">Razor 教程</a></li><li><a title=\"MVC 教程\" href=\"//www.runoob.com/aspnet/mvc-intro.html\">MVC 教程</a></li><li><a title=\"Web Forms 教程\" href=\"//www.runoob.com/aspnet/aspnet-intro.html\">Web Forms 教程</a></li></ul></li><li style=\"margin: 0;\"><a href=\"javascript:void(0);\" class=\"tit\"> Web Service</a><ul class=\"double-li\"><li><a title=\"Web Service 教程\" href=\"//www.runoob.com/webservices/webservices-tutorial.html\">Web Service 教程</a></li><li><a title=\"WSDL 教程\" href=\"//www.runoob.com/wsdl/wsdl-tutorial.html\">WSDL 教程</a></li><li><a title=\"SOAP 教程\" href=\"//www.runoob.com/soap/soap-tutorial.html\">SOAP 教程</a></li><li><a title=\"RSS 教程\" href=\"//www.runoob.com/rss/rss-tutorial.html\">RSS 教程</a></li><li><a title=\"RDF 教程\" href=\"//www.runoob.com/rdf/rdf-tutorial.html\">RDF 教程</a></li></ul></li><li style=\"margin: 0;\"><a href=\"javascript:void(0);\" class=\"tit\"> 开发工具</a><ul class=\"double-li\"><li><a title=\"Eclipse 教程\" href=\"//www.runoob.com/eclipse/eclipse-tutorial.html\">Eclipse 教程</a></li><li><a title=\"Git 教程\" href=\"//www.runoob.com/git/git-tutorial.html\">Git 教程</a></li><li><a title=\"Svn 教程\" href=\"//www.runoob.com/svn/svn-tutorial.html\">Svn 教程</a></li><li><a title=\"Markdown 教程\" href=\"//www.runoob.com/markdown/md-tutorial.html\">Markdown 教程</a></li></ul></li><li style=\"margin: 0;\"><a href=\"javascript:void(0);\" class=\"tit\"> 网站建设</a><ul class=\"double-li\"><li><a title=\"HTTP 教程\" href=\"//www.runoob.com/http/http-tutorial.html\">HTTP 教程</a></li><li><a title=\"网站建设指南\" href=\"//www.runoob.com/web/web-buildingprimer.html\">网站建设指南</a></li><li><a title=\"浏览器信息\" href=\"//www.runoob.com/browsers/browser-information.html\">浏览器信息</a></li><li><a title=\"网站主机教程\" href=\"//www.runoob.com/hosting/hosting-tutorial.html\">网站主机教程</a></li><li><a title=\"TCP/IP 教程\" href=\"//www.runoob.com/tcpip/tcpip-tutorial.html\">TCP/IP 教程</a></li><li><a title=\"W3C 教程\" href=\"//www.runoob.com/w3c/w3c-tutorial.html\">W3C 教程</a></li><li><a title=\"网站品质\" href=\"//www.runoob.com/quality/quality-tutorial.html\">网站品质</a></li></ul></li></ul> </div>\\n</div>\\n</div>\\n<br>\\n<div class=\"sidebar-box ad-box ad-box-large\">\\n<div class=\"sidebar-box advertise-here\">\\n<a href=\"javascript:void(0);\">Advertisement</a>\\n</div>\\n<div class=\"ad-600160\" id=\"sidebar-right-ads\">\\n<script async src=\"//pagead2.googlesyndication.com/pagead/js/adsbygoogle.js\"></script>\\n<ins class=\"adsbygoogle\" style=\"display:inline-block;width:160px;height:600px\" data-ad-client=\"ca-pub-5751451760833794\" data-ad-slot=\"4106274865\"></ins>\\n<script>\\r\\n\\t\\t(adsbygoogle = window.adsbygoogle || []).push({});\\r\\n\\t\\t</script>\\n</div>\\n</div>\\n</div></div>\\n</div>\\n<script>\\nvar aid = 7279;\\nfunction coll() {\\n\\t$.post( \\'/wp-content/themes/runoob/option/user/userinfo.php\\', {aid:aid, action:\"collarticle\", opt:\\'add\\'},function( data ) {\\n\\t\\tif(data.error==0) {\\n\\t\\t\\t$(\"#content\").find(\"h1:first\").find(\"a\").attr(\"href\",\"javascript:void(0);\");\\n\\t\\t\\t$(\"#content\").find(\"h1:first\").find(\"img\").attr(\"src\",\"http://www.runoob.com/wp-content/themes/runoob/assets/img/coll2.png\").css({width:32+\"px\",height:32+\"px\"});\\n\\t\\t}\\n\\t\\talert(data.msg);\\n\\t},\\'json\\');\\n}\\n</script>\\n<script src=\"/wp-content/themes/runoob/assets/feedback/stable/2.0/feedback.js?1.0\"></script>\\n<link rel=\"stylesheet\" href=\"/wp-content/themes/runoob/assets/feedback/stable/2.0/feedback.css?1.0\" />\\n<script type=\"text/javascript\">\\n$.feedback({\\n    ajaxURL: \\'/feedback/runoob_feedback.php\\',\\n    html2canvasURL: \\'/wp-content/themes/runoob/assets/feedback/stable/2.0/html2canvas.js\\'\\n});\\n</script>\\n<button class=\"feedback-btn feedback-btn-gray\">反馈/建议</button>\\n<div id=\"footer\" class=\"mar-t50\">\\n<div class=\"runoob-block\">\\n<div class=\"runoob cf\">\\n<dl>\\n<dt>\\n在线实例\\n</dt>\\n<dd>\\n&middot;<a target=\"_blank\" href=\"/html/html-examples.html\">HTML 实例</a>\\n</dd>\\n<dd>\\n&middot;<a target=\"_blank\" href=\"/css/css-examples.html\">CSS 实例</a>\\n</dd>\\n<dd>\\n&middot;<a target=\"_blank\" href=\"/js/js-examples.html\">JavaScript 实例</a>\\n</dd>\\n<dd>\\n&middot;<a target=\"_blank\" href=\"/ajx/ajax-examples.html\">Ajax 实例</a>\\n</dd>\\n<dd>\\n&middot;<a target=\"_blank\" href=\"/jquery/jquery-examples.html\">jQuery 实例</a>\\n</dd>\\n<dd>\\n&middot;<a target=\"_blank\" href=\"/xml/xml-examples.html\">XML 实例</a>\\n</dd>\\n<dd>\\n&middot;<a target=\"_blank\" href=\"/java/java-examples.html\">Java 实例</a>\\n</dd>\\n</dl>\\n<dl>\\n<dt>\\n字符集&工具\\n</dt>\\n<dd>\\n&middot; <a target=\"_blank\" href=\"/charsets/html-charsets.html\">HTML 字符集设置</a>\\n</dd>\\n<dd>\\n&middot; <a target=\"_blank\" href=\"/tags/html-ascii.html\">HTML ASCII 字符集</a>\\n</dd>\\n<dd>\\n&middot; <a target=\"_blank\" href=\"/tags/ref-entities.html\">HTML ISO-8859-1</a>\\n</dd>\\n<dd>\\n&middot; <a target=\"_blank\" href=\"/tags/html-symbols.html\">HTML 实体符号</a>\\n</dd>\\n<dd>\\n&middot; <a target=\"_blank\" href=\"/tags/html-colorpicker.html\">HTML 拾色器</a>\\n</dd>\\n<dd>\\n&middot; <a target=\"_blank\" href=\"//c.runoob.com/front-end/53\">JSON 格式化工具</a>\\n</dd>\\n</dl>\\n<dl>\\n<dt>\\n最新更新\\n</dt>\\n<dd>\\n&middot;\\n<a href=\"http://www.runoob.com/cplusplus/cpp-examples-monkey-eating-peach.html\" title=\"猴子吃桃问题\">猴子吃桃问题</a>\\n</dd>\\n<dd>\\n&middot;\\n<a href=\"http://www.runoob.com/cprogramming/c-exercise-example101.html\" title=\"猴子吃桃问题\">猴子吃桃问题</a>\\n</dd>\\n<dd>\\n&middot;\\n<a href=\"http://www.runoob.com/python3/python-simplestopwatch.html\" title=\"Python 实现秒表功能\">Python 实现秒表...</a>\\n</dd>\\n<dd>\\n&middot;\\n<a href=\"http://www.runoob.com/w3cnote/programmer-joke-26.html\" title=\"关于程序员鄙视链\">关于程序员鄙视链</a>\\n</dd>\\n<dd>\\n&middot;\\n<a href=\"http://www.runoob.com/w3cnote/radix-sort.html\" title=\"1.10 基数排序\">1.10 基数排序</a>\\n</dd>\\n<dd>\\n&middot;\\n<a href=\"http://www.runoob.com/w3cnote/bucket-sort.html\" title=\"1.9 桶排序\">1.9 桶排序</a>\\n</dd>\\n<dd>\\n&middot;\\n<a href=\"http://www.runoob.com/w3cnote/counting-sort.html\" title=\"1.8 计数排序\">1.8 计数排序</a>\\n</dd>\\n</dl>\\n<dl>\\n<dt>\\n站点信息\\n</dt>\\n<dd>\\n&middot;\\n<a target=\"_blank\" href=\"//mail.qq.com/cgi-bin/qm_share?t=qm_mailme&amp;email=ssbDyoOAgfLU3crf09venNHd3w\" rel=\"external nofollow\">意见反馈</a>\\n</dd>\\n<dd>\\n&middot;\\n<a class=\"wxpopup\" onclick=\"popFunction()\">合作联系\\n<span class=\"popuptext\" id=\"myPopup\">微信(注明来意)：<strong>centos5</strong></span>\\n</a>\\n</dd>\\n<dd>\\n&middot;\\n<a target=\"_blank\" href=\"/disclaimer\">免责声明</a>\\n</dd>\\n<dd>\\n&middot;\\n<a target=\"_blank\" href=\"/aboutus\">关于我们</a>\\n</dd>\\n<dd>\\n&middot;\\n<a target=\"_blank\" href=\"/archives\">文章归档</a>\\n</dd>\\n</dl>\\n<div class=\"search-share\">\\n<div class=\"app-download\">\\n<div>\\n<strong>关注微信</strong>\\n</div>\\n</div>\\n<div class=\"share\">\\n<img width=\"128\" height=\"128\" src=\"/wp-content/themes/runoob/assets/images/qrcode.png\" />\\n</div>\\n</div>\\n</div>\\n</div>\\n<div class=\"w-1000 copyright\">\\nCopyright &copy; 2013-2019 <strong><a href=\"//www.runoob.com/\" target=\"_blank\">菜鸟教程</a></strong>&nbsp;\\n<strong><a href=\"//www.runoob.com/\" target=\"_blank\">runoob.com</a></strong> All Rights Reserved. 备案号：闽ICP备15012807号-1\\n</div>\\n</div>\\n<div class=\"fixed-btn\">\\n<a class=\"go-top\" href=\"javascript:void(0)\" title=\"返回顶部\"> <i class=\"fa fa-angle-up\"></i></a>\\n<a class=\"qrcode\" href=\"javascript:void(0)\" title=\"关注我们\"><i class=\"fa fa-qrcode\"></i></a>\\n<a class=\"writer\" style=\"display:none\" href=\"javascript:void(0)\" title=\"标记/收藏\"><i class=\"fa fa-star\" aria-hidden=\"true\"></i></a>\\n<div id=\"bottom-qrcode\" class=\"modal panel-modal hide fade in\">\\n<h4>微信关注</h4>\\n<div class=\"panel-body\"><img alt=\"微信关注\" width=\"128\" height=\"128\" src=\"/wp-content/themes/runoob/assets/images/qrcode.png\"></div>\\n</div>\\n</div>\\n<div class=\"hide_box\"></div>\\n<div class=\"shang_box\">\\n<a class=\"shang_close\" href=\"javascript:void(0)\" onclick=\"dashangToggle()\" title=\"关闭\"><img src=\"//static.runoob.com/images/dashang/close.jpg\" alt=\"取消\" /></a>\\n<div class=\"shang_tit\">\\n<p>感谢您的支持，我会继续努力的!</p>\\n</div>\\n<div class=\"shang_payimg\">\\n<img src=\"//static.runoob.com/images/dashang/weipayimg.png\" alt=\"扫码支持\" title=\"扫一扫\" />\\n</div>\\n<div class=\"pay_explain\">扫码打赏，你说多少就多少</div>\\n<div class=\"shang_payselect\">\\n<div class=\"pay_item  checked\" data-id=\"weipay\">\\n<span class=\"radiobox\"></span>\\n<span class=\"pay_logo\"><img src=\"//static.runoob.com/images/dashang/wechat.jpg\" alt=\"微信\" /></span>\\n</div>\\n<div class=\"pay_item\" data-id=\"alipay\">\\n<span class=\"radiobox\"></span>\\n<span class=\"pay_logo\"><img src=\"//static.runoob.com/images/dashang/alipay.jpg\" alt=\"支付宝\" /></span>\\n</div>\\n</div>\\n<div class=\"shang_info\">\\n<p>打开<span id=\"shang_pay_txt\">支付宝</span>扫一扫，即可进行扫码打赏哦</p>\\n<p><a href=\"//c.runoob.com/codedemo/5348\" target=\"_blank\"><span style=\" font-size: 14px;color: #000;font-weight: bold;\">点我查看本站打赏源码！</span></a></p>\\n</div>\\n</div>\\n<div id=\"testClick\"></div>\\n<div style=\"display:none;\">\\n<script>\\nvar _hmt = _hmt || [];\\n(function() {\\n  var hm = document.createElement(\"script\");\\n  hm.src = \"https://hm.baidu.com/hm.js?3eec0b7da6548cf07db3bc477ea905ee\";\\n  var s = document.getElementsByTagName(\"script\")[0]; \\n  s.parentNode.insertBefore(hm, s);\\n})();\\n</script>\\n<script async src=\"https://www.googletagmanager.com/gtag/js?id=UA-84264393-2\"></script>\\n<script>\\n  window.dataLayer = window.dataLayer || [];\\n  function gtag(){dataLayer.push(arguments);}\\n  gtag(\\'js\\', new Date());\\n\\n  gtag(\\'config\\', \\'UA-84264393-2\\');\\n</script>\\n</div>\\n<script>\\nwindow.jsui={\\n    www: \\'//wwww.runoob.com\\',\\n    uri: \\'//www.runoob.com/wp-content/themes/runoob\\'\\n};\\n</script>\\n<style>\\nol,ul{list-style:none}.cd-switcher a{text-decoration:none;outline:0}.cd-switcher a:hover{text-decoration:underline}a:focus{outline:0;-moz-outline:0}.main_nav{width:300px;height:60px;margin:60px auto 10px auto}.main_nav li{float:left;width:60px;margin-right:10px;font-size:16px;padding:.6em 1em;border-radius:3em;background:#2f889a;text-align:center}.main_nav li a{color:#fff}.errtip{background-color:#fceaea;color:#db5353;padding:8px 15px;font-size:14px;border:1px solid #fc9797;border-radius:5px}.cd-user-modal{position:fixed;top:0;left:0;width:100%;height:100%;background:rgba(52,54,66,0.9);z-index:3;overflow-y:auto;cursor:pointer;visibility:hidden;opacity:0;-webkit-transition:opacity .3s 0,visibility 0 .3s;-moz-transition:opacity .3s 0,visibility 0 .3s;transition:opacity .3s 0,visibility 0 .3s}.cd-user-modal.is-visible{visibility:visible;opacity:1;-webkit-transition:opacity .3s 0,visibility 0 0;-moz-transition:opacity .3s 0,visibility 0 0;transition:opacity .3s 0,visibility 0 0}.cd-user-modal.is-visible .cd-user-modal-container{-webkit-transform:translateY(0);-moz-transform:translateY(0);-ms-transform:translateY(0);-o-transform:translateY(0);transform:translateY(0)}.cd-user-modal-container{position:relative;width:90%;max-width:500px;background:#FFF;margin:3em auto 4em;cursor:auto;border-radius:.25em;-webkit-transform:translateY(-30px);-moz-transform:translateY(-30px);-ms-transform:translateY(-30px);-o-transform:translateY(-30px);transform:translateY(-30px);-webkit-transition-property:-webkit-transform;-moz-transition-property:-moz-transform;transition-property:transform;-webkit-transition-duration:.3s;-moz-transition-duration:.3s;transition-duration:.3s}.cd-user-modal-container .cd-switcher:after{content:\"\";display:table;clear:both}.cd-user-modal-container .cd-switcher li{width:50%;float:left;text-align:center}.cd-user-modal-container .cd-switcher li:first-child a{border-radius:.25em 0 0 0}.cd-user-modal-container .cd-switcher li:last-child a{border-radius:0 .25em 0 0}.cd-user-modal-container .cd-switcher a{font-size:1.2em;font-weight:bold;display:block;width:100%;height:50px;line-height:50px;background:#e8f1e2;color:#96b880}.cd-user-modal-container .cd-switcher a.selected{background:#FFF;color:#505260}@media only screen and (min-width:600px){.cd-user-modal-container{margin:4em auto}.cd-user-modal-container .cd-switcher a{height:70px;line-height:70px}}.cd-form{padding:1.4em}.cd-form .fieldset{position:relative;margin:1.4em 0}.cd-form .fieldset:first-child{margin-top:0}.cd-form .fieldset:last-child{margin-bottom:0}.cd-form label{font-size:16px;font-size:.875rem}.cd-form label.image-replace{display:inline-block;position:absolute;left:15px;top:50%;bottom:auto;-webkit-transform:translateY(-50%);-moz-transform:translateY(-50%);-ms-transform:translateY(-50%);-o-transform:translateY(-50%);transform:translateY(-50%);height:20px;width:20px;overflow:hidden;text-indent:100%;white-space:nowrap;color:transparent;text-shadow:none;background-repeat:no-repeat;background-position:50% 0}.cd-form label.cd-username{background-image:url(\"/wp-content/themes/runoob/assets/img/cd-icon-username.svg\")}.cd-form label.cd-email{background-image:url(\"/wp-content/themes/runoob/assets/img/cd-icon-email.svg\")}.cd-form label.cd-password{background-image:url(\"/wp-content/themes/runoob/assets/img/cd-icon-password.svg\")}.cd-form input{margin:0;padding:0;border-radius:.25em}.cd-form input.full-width{width:80%}.cd-form input.full-width2{width:94%}.cd-form input.has-padding{padding:12px 20px 12px 50px}.cd-form input.has-border{border:1px solid #d2d8d8;-webkit-appearance:none;-moz-appearance:none;-ms-appearance:none;-o-appearance:none;appearance:none}.cd-form input.has-border:focus{border-color:#98b880;box-shadow:0 0 5px rgba(52,54,66,0.1);outline:0}.cd-form input.has-error{border:1px solid #d76666}.cd-form input[type=password]{padding-right:65px}.cd-form input[type=submit]{padding:16px 0;cursor:pointer;background:#96b97d;color:#FFF;font-weight:bold;border:0;-webkit-appearance:none;-moz-appearance:none;-ms-appearance:none;-o-appearance:none;appearance:none;font-size:1.2em;font-weight:bold}.no-touch .cd-form input[type=submit]:hover,.no-touch .cd-form input[type=submit]:focus{background:#3599ae;outline:0}@media only screen and (min-width:600px){.cd-form{padding:2em}.cd-form .fieldset{margin:2em 0}.cd-form .fieldset:first-child{margin-top:0}.cd-form .fieldset:last-child{margin-bottom:0}.cd-form input.has-padding{padding:16px 20px 16px 50px}.cd-form input[type=submit]{padding:16px 0}}.cd-close-form{display:block;position:absolute;width:40px;height:40px;right:0;top:-40px;background:url(\"/wp-content/themes/runoob/assets/img/cd-icon-close.svg\") no-repeat center center;text-indent:100%;white-space:nowrap;overflow:hidden}@media only screen and (min-width:1170px){}#cd-login,#cd-signup,#cd-reset-password{display:none}#cd-login.is-selected,#cd-signup.is-selected,#cd-reset-password.is-selected{display:block}\\n</style>\\n<div class=\"cd-user-modal\">\\n<div class=\"cd-user-modal-container\">\\n<ul class=\"cd-switcher\">\\n<li><a href=\"javascript:;\">用户登录</a></li>\\n<li><a href=\"javascript:;\">注册新用户</a></li>\\n</ul>\\n<div id=\"cd-login\"> \\n<div class=\"cd-form\">\\n<p class=\"fieldset\">\\n<label class=\"image-replace cd-username\" for=\"signin-username\">用户名</label>\\n<input class=\"full-width has-padding has-border\" id=\"signin-username\" name=username type=\"text\" placeholder=\"输入用户名\">\\n</p>\\n<p class=\"fieldset\">\\n<label class=\"image-replace cd-password\" for=\"signin-password\">密码</label>\\n<input class=\"full-width has-padding has-border\" id=\"signin-password\" name=\"password\" type=\"password\" placeholder=\"输入密码\">\\n</p>\\n<p class=\"fieldset\">\\n<input type=\"checkbox\" id=\"remember-me\" checked>\\n<label for=\"remember-me\">记住登录状态</label>\\n<a href=\"//www.runoob.com/reset-password\" style=\"float: right;padding-right: 20px;\" target=\"_blank\">忘记密码？</a>\\n</p>\\n<input type=\"hidden\" name=\"action\" value=\"signin\">\\n<p class=\"fieldset\">\\n<input class=\"full-width2\" type=\"submit\" value=\"登 录\">\\n</p>\\n<div class=\"err-msg\"></div>\\n</div>\\n</div>\\n<div id=\"cd-signup\"> \\n<div class=\"cd-form\">\\n<p class=\"fieldset\">\\n<label class=\"image-replace cd-password\" for=\"verifycode\">邀请码</label>\\n<input class=\"full-width has-padding has-border\" id=\"signup-verifycode\" name=\"verifycode\" type=\"text\" placeholder=\"输入邀请码\">\\n</p>\\n<p class=\"fieldset\">\\n<label class=\"image-replace cd-username\" for=\"signup-username\">用户名</label>\\n<input class=\"full-width has-padding has-border\" id=\"signup-username\" name=\"name\" type=\"text\" placeholder=\"输入用户名\">\\n</p>\\n<p class=\"fieldset\">\\n<label class=\"image-replace cd-email\" for=\"signup-email\">邮箱</label>\\n<input class=\"full-width has-padding has-border\" name=\"email\" id=\"signup-email\" type=\"email\" placeholder=\"输入mail\">\\n</p>\\n<p class=\"fieldset\">\\n<label class=\"image-replace cd-password\" for=\"signup-password\">密码</label>\\n<input class=\"full-width has-padding has-border\" id=\"signup-password\" name=\"password\" type=\"password\" placeholder=\"输入密码\">\\n</p>\\n<p class=\"fieldset\">\\n<label class=\"image-replace cd-password\" for=\"signup-password2\">重复输入密码</label>\\n<input class=\"full-width has-padding has-border\" id=\"signup-password2\" name=\"password2\" type=\"password\" placeholder=\"重复输入密码\">\\n</p>\\n<input type=\"hidden\" name=\"action\" value=\"signup\">\\n<p class=\"fieldset\">\\n<input class=\"full-width2\" type=\"submit\" value=\"注册新用户\">\\n</p>\\n<p class=\"fieldset\">\\n<a href=\"//www.runoob.com/w3cnote/runoob-user-test-intro.html#invite\" target=\"_blank\">如何获取邀请码？</a>\\n</p>\\n<div class=\"err-msg\"></div>\\n</div>\\n</div>\\n<a href=\"javascript:;\" class=\"cd-close-form\">关闭</a>\\n</div>\\n</div>\\n<script src=\"/wp-content/themes/runoob/assets/js/main.min.js?v=1.189\"></script>\\n<script src=\"//static.runoob.com/assets/libs/hl/run_prettify.js\"></script>\\n</body>\\n</html>'"
      ]
     },
     "execution_count": 3,
     "metadata": {},
     "output_type": "execute_result"
    }
   ],
   "source": [
    "from urllib import request\n",
    "url = 'http://www.runoob.com/python3/python3-tutorial.html'\n",
    "html = request.urlopen(url).read()\n",
    "html.decode()"
   ]
  },
  {
   "cell_type": "code",
   "execution_count": 6,
   "metadata": {},
   "outputs": [],
   "source": [
    "'''根据目标信息解析html文档'''\n",
    "import requests\n",
    "from bs4 import BeautifulSoup\n",
    "\n",
    "\n",
    "url = 'http://www.runoob.com/python3/python3-tutorial.html'\n",
    "\n",
    "r = requests.get(url)\n",
    "html = r.text.encode(r.encoding).decode()\n",
    "soup = BeautifulSoup(html,'lxml')\n"
   ]
  },
  {
   "cell_type": "code",
   "execution_count": 7,
   "metadata": {},
   "outputs": [
    {
     "data": {
      "text/plain": [
       "[<h2 class=\"left\"><span class=\"left_h2\">Python3</span> 高级教程</h2>,\n",
       " <h2>查看python版本</h2>,\n",
       " <h2>第一个Python3.x程序</h2>,\n",
       " <h2 class=\"example\">实例(Python 3.0+)</h2>,\n",
       " <h2>相关内容：</h2>,\n",
       " <h2 class=\"\">\n",
       " <div class=\"altblock\">\n",
       " <i aria-hidden=\"true\" class=\"fa fa-plus-square\" style=\"font-size:28px;margin-top: 8px;\"></i>\n",
       " </div>\n",
       " <span class=\"mw-headline\" id=\"qa_headline\">4  篇笔记</span>\n",
       " <span class=\"mw-headline\" id=\"user_add_note\" style=\"float:right;line-height: 62px;padding-right: 14px;\"><i aria-hidden=\"true\" class=\"fa fa-pencil-square-o\"></i>  写笔记</span>\n",
       " </h2>]"
      ]
     },
     "execution_count": 7,
     "metadata": {},
     "output_type": "execute_result"
    }
   ],
   "source": [
    "soup.head\n",
    "soup.body\n",
    "soup.body.h1\n",
    "soup.findAll('h2')"
   ]
  },
  {
   "cell_type": "code",
   "execution_count": 13,
   "metadata": {},
   "outputs": [
    {
     "data": {
      "text/plain": [
       "['Python3 高级教程',\n",
       " '查看python版本',\n",
       " '第一个Python3.x程序',\n",
       " '实例(Python 3.0+)',\n",
       " '相关内容：',\n",
       " '\\n\\n\\n\\n4  篇笔记\\n  写笔记\\n']"
      ]
     },
     "execution_count": 13,
     "metadata": {},
     "output_type": "execute_result"
    }
   ],
   "source": [
    "import requests\n",
    "from bs4 import BeautifulSoup\n",
    "\n",
    "url = 'http://www.runoob.com/python3/python3-tutorial.html'\n",
    "r = requests.get(url)\n",
    "html = r.text.encode(r.encoding).decode()\n",
    "soup = BeautifulSoup(html,'lxml')\n"
   ]
  },
  {
   "cell_type": "code",
   "execution_count": 18,
   "metadata": {},
   "outputs": [],
   "source": [
    "import pandas as pd\n",
    "l = [x.text for x in soup.findAll('h2')]\n",
    "df = pd.DataFrame(l, columns = [url])\n",
    "df.to_excel('爬虫.xlsx')"
   ]
  },
  {
   "cell_type": "code",
   "execution_count": 15,
   "metadata": {},
   "outputs": [
    {
     "data": {
      "text/plain": [
       "'第一个Python3.x程序'"
      ]
     },
     "execution_count": 15,
     "metadata": {},
     "output_type": "execute_result"
    }
   ],
   "source": [
    "df.iloc[2,0]"
   ]
  },
  {
   "cell_type": "code",
   "execution_count": 19,
   "metadata": {},
   "outputs": [
    {
     "data": {
      "text/html": [
       "<div>\n",
       "<style scoped>\n",
       "    .dataframe tbody tr th:only-of-type {\n",
       "        vertical-align: middle;\n",
       "    }\n",
       "\n",
       "    .dataframe tbody tr th {\n",
       "        vertical-align: top;\n",
       "    }\n",
       "\n",
       "    .dataframe thead th {\n",
       "        text-align: right;\n",
       "    }\n",
       "</style>\n",
       "<table border=\"1\" class=\"dataframe\">\n",
       "  <thead>\n",
       "    <tr style=\"text-align: right;\">\n",
       "      <th></th>\n",
       "      <th>http://www.runoob.com/python3/python3-tutorial.html</th>\n",
       "    </tr>\n",
       "  </thead>\n",
       "  <tbody>\n",
       "    <tr>\n",
       "      <th>0</th>\n",
       "      <td>Python3 高级教程</td>\n",
       "    </tr>\n",
       "    <tr>\n",
       "      <th>1</th>\n",
       "      <td>查看python版本</td>\n",
       "    </tr>\n",
       "    <tr>\n",
       "      <th>2</th>\n",
       "      <td>第一个Python3.x程序</td>\n",
       "    </tr>\n",
       "    <tr>\n",
       "      <th>3</th>\n",
       "      <td>实例(Python 3.0+)</td>\n",
       "    </tr>\n",
       "    <tr>\n",
       "      <th>4</th>\n",
       "      <td>相关内容：</td>\n",
       "    </tr>\n",
       "    <tr>\n",
       "      <th>5</th>\n",
       "      <td>\\n\\n\\n\\n4  篇笔记\\n  写笔记\\n</td>\n",
       "    </tr>\n",
       "  </tbody>\n",
       "</table>\n",
       "</div>"
      ],
      "text/plain": [
       "  http://www.runoob.com/python3/python3-tutorial.html\n",
       "0                                       Python3 高级教程 \n",
       "1                                         查看python版本 \n",
       "2                                     第一个Python3.x程序 \n",
       "3                                    实例(Python 3.0+) \n",
       "4                                              相关内容： \n",
       "5                            \\n\\n\\n\\n4  篇笔记\\n  写笔记\\n "
      ]
     },
     "execution_count": 19,
     "metadata": {},
     "output_type": "execute_result"
    }
   ],
   "source": [
    "import requests\n",
    "import pandas as pd\n",
    "from bs4 import BeautifulSoup\n",
    "\n",
    "url = 'http://www.runoob.com/python3/python3-tutorial.html'\n",
    "r = requests.get(url)\n",
    "html = r.text.encode(r.encoding).decode()\n",
    "soup = BeautifulSoup(html,'lxml')\n",
    "\n",
    "l = [x.text for x in soup.findAll('h2')]\n",
    "df = pd.DataFrame(l, columns = [url])\n",
    "df"
   ]
  },
  {
   "cell_type": "code",
   "execution_count": 22,
   "metadata": {},
   "outputs": [
    {
     "data": {
      "text/plain": [
       "'//www.runoob.com/'"
      ]
     },
     "execution_count": 22,
     "metadata": {},
     "output_type": "execute_result"
    }
   ],
   "source": [
    "x = soup.findAll('a')[1]\n",
    "x.has_attr('href')\n",
    "x.attrs['href']"
   ]
  },
  {
   "cell_type": "code",
   "execution_count": 30,
   "metadata": {},
   "outputs": [
    {
     "data": {
      "text/plain": [
       "{'http://www.runoob.com/html/html-examples.html',\n",
       " 'http://www.runoob.com/html/html-tutorial.html'}"
      ]
     },
     "execution_count": 30,
     "metadata": {},
     "output_type": "execute_result"
    }
   ],
   "source": [
    "links = [i for i in soup.findAll('a') if i.has_attr(\"href\") and i.attrs['href'][0:5] == '/html']\n",
    "relative_urls = set([i.attrs['href'] for i in links ])\n",
    "absolute_urls = {'http://www.runoob.com' + i for i in relative_urls}\n",
    "absolute_urls.discard(url)\n",
    "absolute_urls"
   ]
  },
  {
   "cell_type": "code",
   "execution_count": 32,
   "metadata": {},
   "outputs": [
    {
     "data": {
      "text/html": [
       "<div>\n",
       "<style scoped>\n",
       "    .dataframe tbody tr th:only-of-type {\n",
       "        vertical-align: middle;\n",
       "    }\n",
       "\n",
       "    .dataframe tbody tr th {\n",
       "        vertical-align: top;\n",
       "    }\n",
       "\n",
       "    .dataframe thead th {\n",
       "        text-align: right;\n",
       "    }\n",
       "</style>\n",
       "<table border=\"1\" class=\"dataframe\">\n",
       "  <thead>\n",
       "    <tr style=\"text-align: right;\">\n",
       "      <th></th>\n",
       "      <th>http://www.runoob.com/python3/python3-tutorial.html</th>\n",
       "      <th>http://www.runoob.com/html/html-examples.html</th>\n",
       "      <th>http://www.runoob.com/html/html-tutorial.html</th>\n",
       "    </tr>\n",
       "  </thead>\n",
       "  <tbody>\n",
       "    <tr>\n",
       "      <th>0</th>\n",
       "      <td>Python3 高级教程</td>\n",
       "      <td>HTML5</td>\n",
       "      <td>HTML5</td>\n",
       "    </tr>\n",
       "    <tr>\n",
       "      <th>1</th>\n",
       "      <td>查看python版本</td>\n",
       "      <td>HTML 媒体</td>\n",
       "      <td>HTML 媒体</td>\n",
       "    </tr>\n",
       "    <tr>\n",
       "      <th>2</th>\n",
       "      <td>第一个Python3.x程序</td>\n",
       "      <td>HTML 参考手册</td>\n",
       "      <td>HTML 参考手册</td>\n",
       "    </tr>\n",
       "    <tr>\n",
       "      <th>3</th>\n",
       "      <td>实例(Python 3.0+)</td>\n",
       "      <td>NaN</td>\n",
       "      <td>HTML 实例</td>\n",
       "    </tr>\n",
       "    <tr>\n",
       "      <th>4</th>\n",
       "      <td>相关内容：</td>\n",
       "      <td>NaN</td>\n",
       "      <td>实例</td>\n",
       "    </tr>\n",
       "    <tr>\n",
       "      <th>5</th>\n",
       "      <td>\\n\\n\\n\\n4  篇笔记\\n  写笔记\\n</td>\n",
       "      <td>NaN</td>\n",
       "      <td>\\r\\nHTML文档的后缀名</td>\n",
       "    </tr>\n",
       "    <tr>\n",
       "      <th>6</th>\n",
       "      <td>NaN</td>\n",
       "      <td>NaN</td>\n",
       "      <td>HTML 实例</td>\n",
       "    </tr>\n",
       "    <tr>\n",
       "      <th>7</th>\n",
       "      <td>NaN</td>\n",
       "      <td>NaN</td>\n",
       "      <td>HTML 参考手册</td>\n",
       "    </tr>\n",
       "    <tr>\n",
       "      <th>8</th>\n",
       "      <td>NaN</td>\n",
       "      <td>NaN</td>\n",
       "      <td>HTML/CSS/JS 在线工具</td>\n",
       "    </tr>\n",
       "    <tr>\n",
       "      <th>9</th>\n",
       "      <td>NaN</td>\n",
       "      <td>NaN</td>\n",
       "      <td>\\n\\n\\n\\n4  篇笔记\\n  写笔记\\n</td>\n",
       "    </tr>\n",
       "    <tr>\n",
       "      <th>10</th>\n",
       "      <td>NaN</td>\n",
       "      <td>NaN</td>\n",
       "      <td>实例</td>\n",
       "    </tr>\n",
       "  </tbody>\n",
       "</table>\n",
       "</div>"
      ],
      "text/plain": [
       "   http://www.runoob.com/python3/python3-tutorial.html  \\\n",
       "0                                        Python3 高级教程    \n",
       "1                                          查看python版本    \n",
       "2                                      第一个Python3.x程序    \n",
       "3                                     实例(Python 3.0+)    \n",
       "4                                               相关内容：    \n",
       "5                             \\n\\n\\n\\n4  篇笔记\\n  写笔记\\n    \n",
       "6                                                 NaN    \n",
       "7                                                 NaN    \n",
       "8                                                 NaN    \n",
       "9                                                 NaN    \n",
       "10                                                NaN    \n",
       "\n",
       "   http://www.runoob.com/html/html-examples.html  \\\n",
       "0                                          HTML5   \n",
       "1                                        HTML 媒体   \n",
       "2                                      HTML 参考手册   \n",
       "3                                            NaN   \n",
       "4                                            NaN   \n",
       "5                                            NaN   \n",
       "6                                            NaN   \n",
       "7                                            NaN   \n",
       "8                                            NaN   \n",
       "9                                            NaN   \n",
       "10                                           NaN   \n",
       "\n",
       "   http://www.runoob.com/html/html-tutorial.html  \n",
       "0                                          HTML5  \n",
       "1                                        HTML 媒体  \n",
       "2                                      HTML 参考手册  \n",
       "3                                        HTML 实例  \n",
       "4                                             实例  \n",
       "5                                 \\r\\nHTML文档的后缀名  \n",
       "6                                        HTML 实例  \n",
       "7                                      HTML 参考手册  \n",
       "8                               HTML/CSS/JS 在线工具  \n",
       "9                        \\n\\n\\n\\n4  篇笔记\\n  写笔记\\n  \n",
       "10                                            实例  "
      ]
     },
     "execution_count": 32,
     "metadata": {},
     "output_type": "execute_result"
    }
   ],
   "source": [
    "for i in absolute_urls:\n",
    "    ri = requests.get(i)\n",
    "    soupi = BeautifulSoup(ri.text.encode(ri.encoding), \"lxml\")\n",
    "    li = [x.text for x in soupi.findAll('h2')]\n",
    "    dfi = pd.DataFrame(li, columns = [i])\n",
    "    df = df.join(dfi, how = 'outer')\n",
    "df"
   ]
  },
  {
   "cell_type": "code",
   "execution_count": null,
   "metadata": {},
   "outputs": [],
   "source": []
  }
 ],
 "metadata": {
  "kernelspec": {
   "display_name": "Python 3",
   "language": "python",
   "name": "python3"
  },
  "language_info": {
   "codemirror_mode": {
    "name": "ipython",
    "version": 3
   },
   "file_extension": ".py",
   "mimetype": "text/x-python",
   "name": "python",
   "nbconvert_exporter": "python",
   "pygments_lexer": "ipython3",
   "version": "3.7.1"
  }
 },
 "nbformat": 4,
 "nbformat_minor": 2
}
