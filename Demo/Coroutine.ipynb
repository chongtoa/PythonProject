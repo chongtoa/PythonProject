{
 "cells": [
  {
   "cell_type": "code",
   "execution_count": 1,
   "metadata": {},
   "outputs": [
    {
     "name": "stdout",
     "output_type": "stream",
     "text": [
      "<generator object eater at 0x10f6688b8>\n"
     ]
    }
   ],
   "source": [
    "def eater(name):\n",
    "    print(\"%s eat food\" %name)\n",
    "    while True:\n",
    "        food = yield\n",
    "    print(\"done\")\n",
    "    \n",
    "g = eater(\"gangdan\")\n",
    "print(g)"
   ]
  },
  {
   "cell_type": "code",
   "execution_count": 3,
   "metadata": {},
   "outputs": [
    {
     "name": "stdout",
     "output_type": "stream",
     "text": [
      "tom start to eat food\n",
      "tom get 包子, to start eat\n",
      "['包子']\n",
      "tom get 骨头, to start eat\n",
      "['包子', '骨头']\n",
      "tom get 菜汤, to start eat\n",
      "['包子', '骨头', '菜汤']\n"
     ]
    }
   ],
   "source": [
    "def creater(name):\n",
    "    print(\"%s start to eat food\" %name)\n",
    "    food_list = []\n",
    "    while True:\n",
    "        food = yield food_list\n",
    "        print(\"%s get %s, to start eat\" %(name, food))\n",
    "        food_list.append(food)\n",
    "        \n",
    "# 获取生成器\n",
    "builder = creater(\"tom\")\n",
    "next(builder)\n",
    "print(builder.send(\"包子\"))\n",
    "print(builder.send(\"骨头\"))\n",
    "print(builder.send(\"菜汤\"))"
   ]
  },
  {
   "cell_type": "code",
   "execution_count": 4,
   "metadata": {},
   "outputs": [
    {
     "name": "stdout",
     "output_type": "stream",
     "text": [
      "tom start to eat food\n",
      "tom get 包子, to start eat\n",
      "['包子']\n",
      "tom get 骨头, to start eat\n",
      "['包子', '骨头']\n",
      "tom get 菜汤, to start eat\n",
      "['包子', '骨头', '菜汤']\n"
     ]
    }
   ],
   "source": [
    "def init(func):\n",
    "    def wrapper(*args, **kwargs):\n",
    "        builder = func(*args, **kwargs)\n",
    "        next(builder)\n",
    "        return builder\n",
    "    return wrapper\n",
    "\n",
    "@init\n",
    "def creater(name):\n",
    "    print(\"%s start to eat food\" %name)\n",
    "    food_list = []\n",
    "    while True:\n",
    "        food = yield food_list\n",
    "        print(\"%s get %s, to start eat\" %(name, food))\n",
    "        food_list.append(food)\n",
    "        \n",
    "# 获取生成器\n",
    "builder = creater(\"tom\")\n",
    "print(builder.send(\"包子\"))\n",
    "print(builder.send(\"骨头\"))\n",
    "print(builder.send(\"菜汤\"))"
   ]
  },
  {
   "cell_type": "code",
   "execution_count": 5,
   "metadata": {},
   "outputs": [
    {
     "name": "stdout",
     "output_type": "stream",
     "text": [
      "Tom start to eat food\n",
      "请给Tom投喂食物：骨头\n",
      "Tom get 骨头, to start eat\n",
      "请给Tom投喂食物：菜汤\n",
      "Tom get 菜汤, to start eat\n",
      "请给Tom投喂食物：苹果\n",
      "Tom get 苹果, to start eat\n",
      "请给Tom投喂食物：q\n",
      "结束\n"
     ]
    }
   ],
   "source": [
    "def init(func):\n",
    "    def wrapper(*args, **kwargs):\n",
    "        builder = func(*args, **kwargs)\n",
    "        next(builder)\n",
    "        return builder\n",
    "    return wrapper\n",
    "\n",
    "@init\n",
    "def creater(name):\n",
    "    print(\"%s start to eat food\" %name)\n",
    "    food_list = []\n",
    "    while True:\n",
    "        food = yield food_list\n",
    "        print(\"%s get %s, to start eat\" %(name, food))\n",
    "        food_list.append(food)\n",
    "\n",
    "def food():\n",
    "    builder = creater(\"Tom\")\n",
    "    while True:\n",
    "        food = input(\"请给Tom投喂食物：\").strip()\n",
    "        if food == \"q\":\n",
    "            print(\"结束\")\n",
    "            return 0\n",
    "        else:\n",
    "            builder.send(food)\n",
    "\n",
    "if __name__ == \"__main__\":\n",
    "    food()"
   ]
  },
  {
   "cell_type": "code",
   "execution_count": null,
   "metadata": {},
   "outputs": [],
   "source": []
  }
 ],
 "metadata": {
  "kernelspec": {
   "display_name": "Python 3",
   "language": "python",
   "name": "python3"
  },
  "language_info": {
   "codemirror_mode": {
    "name": "ipython",
    "version": 3
   },
   "file_extension": ".py",
   "mimetype": "text/x-python",
   "name": "python",
   "nbconvert_exporter": "python",
   "pygments_lexer": "ipython3",
   "version": "3.7.1"
  }
 },
 "nbformat": 4,
 "nbformat_minor": 2
}
