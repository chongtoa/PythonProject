{
 "cells": [
  {
   "cell_type": "code",
   "execution_count": 1,
   "metadata": {},
   "outputs": [],
   "source": [
    "import requests, bs4, smtplib\n",
    "from email.mime.text import MIMEText\n",
    "from email.header import Header"
   ]
  },
  {
   "cell_type": "code",
   "execution_count": 2,
   "metadata": {},
   "outputs": [],
   "source": [
    "def sendmail(content):\n",
    "    # 发送消息邮箱\n",
    "    smtp_server = \"smtp.163.com\"\n",
    "    fromMail = \"chongtao1990@163.com\"   \n",
    "    mailPass = (\"chongtao1990\") \n",
    "    \n",
    "    #接受消息邮箱\n",
    "    toMail = \"1558770285@qq.com\"\n",
    "    fromName = \"mywork\"\n",
    "    subject = \"python Email\"\n",
    "    \n",
    "    # 发送消息内容\n",
    "    msg = MIMEText(content)\n",
    "    msg[\"Subject\"] = subject\n",
    "    msg[\"From\"] = fromMail\n",
    "    msg[\"To\"] = toMail\n",
    "    \n",
    "    try:\n",
    "        s = smtplib.SMTP()\n",
    "        print(\"***正在连接服务器***\")\n",
    "        s.connect(smtp_server)\n",
    "        s = smtplib.SMTP_SSL(\"smtp.163.com\", 465)\n",
    "        print(\"***正在登陆***\")\n",
    "        s.login(fromMail, mailPass)\n",
    "        print(\"***sending***\")\n",
    "        s.sendmail(fromMail, toMail, msg.as_string())\n",
    "        print(\"***send Sucess!***\")\n",
    "        s.quit()\n",
    "    except Exception as e:\n",
    "        print(\"*** error *****\" + str(e))"
   ]
  },
  {
   "cell_type": "code",
   "execution_count": 3,
   "metadata": {},
   "outputs": [
    {
     "name": "stdout",
     "output_type": "stream",
     "text": [
      "***正在连接服务器***\n",
      "***正在登陆***\n",
      "***sending***\n",
      "***send Sucess!***\n",
      "Done\n"
     ]
    }
   ],
   "source": [
    "# 发送内容\n",
    "if __name__ == \"__main__\":\n",
    "    sendmail(\"sucess! This is a test\")\n",
    "    print(\"Done\")"
   ]
  }
 ],
 "metadata": {
  "kernelspec": {
   "display_name": "Python 3",
   "language": "python",
   "name": "python3"
  },
  "language_info": {
   "codemirror_mode": {
    "name": "ipython",
    "version": 3
   },
   "file_extension": ".py",
   "mimetype": "text/x-python",
   "name": "python",
   "nbconvert_exporter": "python",
   "pygments_lexer": "ipython3",
   "version": "3.7.1"
  }
 },
 "nbformat": 4,
 "nbformat_minor": 2
}
