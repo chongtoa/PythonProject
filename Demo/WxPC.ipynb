{
 "cells": [
  {
   "cell_type": "code",
   "execution_count": 1,
   "metadata": {},
   "outputs": [
    {
     "name": "stdout",
     "output_type": "stream",
     "text": [
      "█\r"
     ]
    }
   ],
   "source": [
    "# coding: utf-8\n",
    "from numpy import *\n",
    "import itchat\n",
    "import PIL.Image as Image\n",
    "from os import listdir"
   ]
  },
  {
   "cell_type": "code",
   "execution_count": 2,
   "metadata": {},
   "outputs": [],
   "source": [
    "def get_imgs():\n",
    "    #使用热登录(已经登录的程序，再一次运行程序不需要扫描验证码)，执行这一步就会有二维码需要扫描登录\n",
    "    itchat.auto_login(hotReload=True)\n",
    "    #获取朋友列表，返回字典类型的数据集，获取好友的索引数\n",
    "    friends = itchat.get_friends(update=True)[0:256]\n",
    "    #为图片命名的变量\n",
    "    num = 0\n",
    "    #遍历好友列表\n",
    "    for i in friends:\n",
    "        #获取好友的头像\n",
    "        img = itchat.get_head_img(userName=i[\"UserName\"])\n",
    "        #在项目文件的主创建一个user文件用于放头像，并写入对应的图片名，空白的\n",
    "        fileImage = open( \"/Users/chongtao/Pictures/\" + str(num) + \".jpg\", 'wb')\n",
    "        #将获取到的头像文件写到创建的图片文件中\n",
    "        fileImage.write(img)\n",
    "        #关闭资源\n",
    "        fileImage.close()\n",
    "        num += 1"
   ]
  },
  {
   "cell_type": "code",
   "execution_count": 3,
   "metadata": {},
   "outputs": [],
   "source": [
    "def get_big_img():\n",
    "    #获取usr文件夹所有文件的名称\n",
    "    pics = listdir(\"/Users/chongtao/Pictures\")\n",
    "    numPic = len(pics)\n",
    "    #创建图片大小\n",
    "    toImage = Image.new(\"RGB\", (800, 800))\n",
    "    #用于图片的位置\n",
    "    x = 0\n",
    "    y = 0\n",
    "    #遍历user文件夹的图片\n",
    "    for i in pics:\n",
    "        try:\n",
    "            #依次打开图片\n",
    "            img = Image.open(\"/Users/chongtao/Pictures/{}\".format(i))\n",
    "        except IOError:\n",
    "            print(\"Error: 没有找到文件或读取文件失败\",i)\n",
    "        else:\n",
    "            #重新设置图片的大小\n",
    "            img = img.resize((50, 50), Image.ANTIALIAS)\n",
    "            #将图片粘贴到最后的大图片上，需要注意对应的位置\n",
    "            toImage.paste(img, (x * 50, y * 50))\n",
    "            #设置每一行排16个图像\n",
    "            x += 1\n",
    "            if x == 16:\n",
    "                x = 0\n",
    "                y += 1\n",
    "    #保存图片为bigPhoto.jpg\n",
    "    toImage.save(\"/Users/chongtao/Pictures/\" +\"bigPhoto.jpg\")\n",
    "    #将做好图片发送东自己的手机上\n",
    "    itchat.send_image(\"/Users/chongtao/Pictures/\" +\"bigPhoto.jpg\", 'filehelper')"
   ]
  },
  {
   "cell_type": "code",
   "execution_count": 4,
   "metadata": {},
   "outputs": [
    {
     "name": "stdout",
     "output_type": "stream",
     "text": [
      "Error: 没有找到文件或读取文件失败 .localized\n",
      "Error: 没有找到文件或读取文件失败 121.jpg\n",
      "Error: 没有找到文件或读取文件失败 2.jpg\n"
     ]
    }
   ],
   "source": [
    "#定义执行的主函数\n",
    "def main():\n",
    "    get_imgs()\n",
    "    get_big_img()\n",
    "#运行\n",
    "if __name__==\"__main__\":\n",
    "    main()"
   ]
  },
  {
   "cell_type": "code",
   "execution_count": null,
   "metadata": {},
   "outputs": [],
   "source": []
  }
 ],
 "metadata": {
  "kernelspec": {
   "display_name": "Python 3",
   "language": "python",
   "name": "python3"
  },
  "language_info": {
   "codemirror_mode": {
    "name": "ipython",
    "version": 3
   },
   "file_extension": ".py",
   "mimetype": "text/x-python",
   "name": "python",
   "nbconvert_exporter": "python",
   "pygments_lexer": "ipython3",
   "version": "3.7.1"
  }
 },
 "nbformat": 4,
 "nbformat_minor": 2
}
