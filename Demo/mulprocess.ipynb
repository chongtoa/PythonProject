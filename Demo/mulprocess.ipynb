{
 "cells": [
  {
   "cell_type": "code",
   "execution_count": 1,
   "metadata": {},
   "outputs": [
    {
     "name": "stdout",
     "output_type": "stream",
     "text": [
      "p.pid: 768\n",
      "p.name: Process-1\n",
      "p.is_alive True\n",
      "The time is Tue Apr  2 23:30:53 2019\n",
      "The time is Tue Apr  2 23:30:56 2019\n",
      "The time is Tue Apr  2 23:30:59 2019\n",
      "The time is Tue Apr  2 23:31:02 2019\n",
      "The time is Tue Apr  2 23:31:05 2019\n"
     ]
    }
   ],
   "source": [
    "import multiprocessing\n",
    "import time\n",
    "\n",
    "def worker(interval):\n",
    "    n = 5\n",
    "    while n > 0:\n",
    "        print(\"The time is {0}\".format(time.ctime()))\n",
    "        time.sleep(interval)\n",
    "        n -= 1\n",
    "        \n",
    "if __name__ == \"__main__\":\n",
    "    p = multiprocessing.Process(target = worker, args = (3,))\n",
    "    p.start()\n",
    "    print(\"p.pid:\", p.pid)\n",
    "    print(\"p.name:\", p.name)\n",
    "    print(\"p.is_alive\", p.is_alive())"
   ]
  },
  {
   "cell_type": "code",
   "execution_count": 2,
   "metadata": {},
   "outputs": [
    {
     "name": "stdout",
     "output_type": "stream",
     "text": [
      "worker_1\n",
      "The number of CPU is:4\n",
      "child p.nameProcess-4\tp.id771\n",
      "child p.nameProcess-1\tp.id768\n",
      "child p.nameProcess-3\tp.id770\n",
      "child p.nameProcess-2\tp.id769\n",
      "END !!!!!!!!!!!!!!\n",
      "worker_2\n",
      "worker_3\n",
      "end worker_1\n",
      "end worker_2\n",
      "end worker_3\n"
     ]
    }
   ],
   "source": [
    "import multiprocessing\n",
    "import time\n",
    "\n",
    "def worker_1(interval):\n",
    "    print(\"worker_1\")\n",
    "    time.sleep(interval)\n",
    "    print(\"end worker_1\")\n",
    "    \n",
    "def worker_2(interval):\n",
    "    print(\"worker_2\")\n",
    "    time.sleep(interval)\n",
    "    print(\"end worker_2\")\n",
    "        \n",
    "def worker_3(interval):\n",
    "    print(\"worker_3\")\n",
    "    time.sleep(interval)\n",
    "    print(\"end worker_3\")\n",
    "    \n",
    "if __name__ == \"__main__\":\n",
    "    p1 = multiprocessing.Process(target = worker_1, args = (2,))\n",
    "    p2 = multiprocessing.Process(target = worker_2, args = (3,))\n",
    "    p3 = multiprocessing.Process(target = worker_3, args = (4,))\n",
    "    \n",
    "    p1.start()\n",
    "    p2.start()\n",
    "    p3.start()\n",
    "    \n",
    "    print(\"The number of CPU is:\" + str(multiprocessing.cpu_count()))\n",
    "    for p in multiprocessing.active_children():\n",
    "        print(\"child p.name\" + p.name + \"\\tp.id\" + str(p.pid))\n",
    "    print(\"END !!!!!!!!!!!!!!\")"
   ]
  },
  {
   "cell_type": "code",
   "execution_count": 3,
   "metadata": {},
   "outputs": [
    {
     "name": "stdout",
     "output_type": "stream",
     "text": [
      "the time is Tue Apr  2 23:30:53 2019\n",
      "the time is Tue Apr  2 23:30:56 2019\n",
      "the time is Tue Apr  2 23:30:59 2019\n",
      "the time is Tue Apr  2 23:31:02 2019\n",
      "the time is Tue Apr  2 23:31:05 2019\n"
     ]
    }
   ],
   "source": [
    "import multiprocessing\n",
    "import time\n",
    "\n",
    "class ClockProcess(multiprocessing.Process):\n",
    "    def __init__(self, interval):\n",
    "        multiprocessing.Process.__init__(self)\n",
    "        self.interval = interval\n",
    "    def run(self):\n",
    "        n = 5\n",
    "        while n > 0:\n",
    "            print(\"the time is {0}\".format(time.ctime()))\n",
    "            time.sleep(self.interval)\n",
    "            n -= 1\n",
    "    \n",
    "if __name__ == \"__main__\":\n",
    "    p = ClockProcess(3)\n",
    "    p.start()"
   ]
  },
  {
   "cell_type": "code",
   "execution_count": 4,
   "metadata": {},
   "outputs": [
    {
     "name": "stdout",
     "output_type": "stream",
     "text": [
      "worker start:Tue Apr  2 23:30:53 2019\n",
      "worker end:Tue Apr  2 23:30:56 2019\n",
      "end!\n"
     ]
    }
   ],
   "source": [
    "import multiprocessing\n",
    "import time\n",
    "\n",
    "def worker(interval):\n",
    "    print(\"worker start:{0}\".format(time.ctime()))\n",
    "    time.sleep(interval)\n",
    "    print(\"worker end:{0}\".format(time.ctime()))\n",
    "    \n",
    "if __name__ == \"__main__\":\n",
    "    p = multiprocessing.Process(target = worker, args = (3,))\n",
    "    p.daemon = True\n",
    "    p.start()\n",
    "    p.join()\n",
    "    print(\"end!\")"
   ]
  },
  {
   "cell_type": "code",
   "execution_count": 5,
   "metadata": {},
   "outputs": [
    {
     "name": "stdout",
     "output_type": "stream",
     "text": [
      "end\n"
     ]
    }
   ],
   "source": [
    "import multiprocessing\n",
    "import sys\n",
    "\n",
    "def worker_with(lock, f):\n",
    "    with lock:\n",
    "        fs = open(f, \"a+\")\n",
    "        n = 10\n",
    "        while n > 1:\n",
    "            fs.write(\"Locked acquired via with\\n\")\n",
    "            n -= 1\n",
    "        fs.close()\n",
    "\n",
    "def worker_no_with(lock, f):\n",
    "    lock.acquire()\n",
    "    try:\n",
    "        fs = open(f, \"a+\")\n",
    "        n = 10\n",
    "        while n > 1:\n",
    "            fs.write(\"Lock acquired via directly\\n\")\n",
    "            n -= 1\n",
    "        fs.close()\n",
    "    finally:\n",
    "        lock.release()\n",
    "        \n",
    "if __name__ == \"__main__\":\n",
    "    lock = multiprocessing.Lock()\n",
    "    f = \"file.txt\"\n",
    "    w = multiprocessing.Process(target = worker_with, args=(lock, f))\n",
    "    nw = multiprocessing.Process(target = worker_no_with, args=(lock, f))\n",
    "    w.start()\n",
    "    nw.start()\n",
    "    print(\"end\")"
   ]
  },
  {
   "cell_type": "code",
   "execution_count": 6,
   "metadata": {},
   "outputs": [
    {
     "name": "stdout",
     "output_type": "stream",
     "text": [
      "Process-9acquire\n",
      "Process-9release\n",
      "Process-10acquire\n",
      "\n",
      "Process-11acquire\n",
      "Process-10release\n",
      "\n",
      "Process-12acquire\n",
      "Process-11release\n",
      "\n",
      "Process-13acquire\n",
      "Process-12release\n",
      "\n",
      "Process-13release\n",
      "\n"
     ]
    }
   ],
   "source": [
    "import multiprocessing\n",
    "import time\n",
    "\n",
    "def worker(s, i):\n",
    "    s.acquire()\n",
    "    print(multiprocessing.current_process().name + \"acquire\")\n",
    "    time.sleep(i)\n",
    "    print(multiprocessing.current_process().name + \"release\\n\")\n",
    "    s.release()\n",
    "    \n",
    "if __name__ == \"__main__\":\n",
    "    s = multiprocessing.Semaphore(2)\n",
    "    for i in range(5):\n",
    "        p = multiprocessing.Process(target = worker, args = (s, i*2))\n",
    "        p.start()"
   ]
  },
  {
   "cell_type": "code",
   "execution_count": 7,
   "metadata": {},
   "outputs": [
    {
     "name": "stdout",
     "output_type": "stream",
     "text": [
      "wait_for_event: starting\n",
      "worker_for_event_timeout: starting\n",
      "worker_for_event_timeout: e.is_set()->False\n",
      "main:event is set\n",
      "wait_for_event: e.is_set()->True\n"
     ]
    }
   ],
   "source": [
    "import multiprocessing\n",
    "import time\n",
    "\n",
    "def wait_for_event(e):\n",
    "    print(\"wait_for_event: starting\")\n",
    "    e.wait()\n",
    "    print(\"wait_for_event: e.is_set()->\" + str(e.is_set()))\n",
    "    \n",
    "def wait_for_event_timeout(e, t):\n",
    "    print(\"worker_for_event_timeout: starting\")\n",
    "    e.wait(t)\n",
    "    print(\"worker_for_event_timeout: e.is_set()->\" + str(e.is_set()))\n",
    "    \n",
    "if __name__ == \"__main__\":\n",
    "    e = multiprocessing.Event()\n",
    "    w1 = multiprocessing.Process(name = \"block\",\n",
    "                                target = wait_for_event,\n",
    "                                args = (e, ))\n",
    "    \n",
    "    w2 = multiprocessing.Process(name = \"no-block\",\n",
    "                                target = wait_for_event_timeout,\n",
    "                                args = (e, 2))\n",
    "    w1.start()\n",
    "    w2.start()\n",
    "    time.sleep(3)\n",
    "    \n",
    "    e.set()\n",
    "    print(\"main:event is set\")"
   ]
  },
  {
   "cell_type": "code",
   "execution_count": 8,
   "metadata": {},
   "outputs": [
    {
     "name": "stdout",
     "output_type": "stream",
     "text": [
      "1\n"
     ]
    }
   ],
   "source": [
    "import multiprocessing\n",
    "\n",
    "def writer_proc(q):\n",
    "    try:\n",
    "        q.put(1, block = False)\n",
    "    except:\n",
    "        pass\n",
    "\n",
    "def reader_proc(q):\n",
    "    try:\n",
    "        print(q.get(block = False))\n",
    "    except:\n",
    "        pass\n",
    "    \n",
    "if __name__ == \"__main__\":\n",
    "    q = multiprocessing.Queue()\n",
    "    writer = multiprocessing.Process(target = writer_proc, args = (q, ))\n",
    "    writer.start()\n",
    "    \n",
    "    reader = multiprocessing.Process(target = reader_proc, args=(q, ))\n",
    "    reader.start()\n",
    "    \n",
    "    reader.join()\n",
    "    writer.join()"
   ]
  },
  {
   "cell_type": "code",
   "execution_count": 9,
   "metadata": {},
   "outputs": [
    {
     "name": "stdout",
     "output_type": "stream",
     "text": [
      "send: 0\n",
      "proc2 rev: 0\n"
     ]
    },
    {
     "name": "stderr",
     "output_type": "stream",
     "text": [
      "Process Process-19:\n",
      "Traceback (most recent call last):\n",
      "  File \"/Library/Frameworks/Python.framework/Versions/3.7/lib/python3.7/multiprocessing/process.py\", line 297, in _bootstrap\n",
      "    self.run()\n",
      "  File \"/Library/Frameworks/Python.framework/Versions/3.7/lib/python3.7/multiprocessing/process.py\", line 99, in run\n",
      "    self._target(*self._args, **self._kwargs)\n",
      "  File \"<ipython-input-9-cf16f6ce0df6>\", line 14, in proc2\n",
      "    time.sleep()\n",
      "TypeError: sleep() takes exactly one argument (0 given)\n"
     ]
    },
    {
     "name": "stdout",
     "output_type": "stream",
     "text": [
      "send: 1\n",
      "send: 2\n",
      "send: 3\n",
      "send: 4\n",
      "send: 5\n",
      "send: 6\n",
      "send: 7\n",
      "send: 8\n",
      "send: 9\n",
      "send: 10\n",
      "send: 11\n",
      "send: 12\n",
      "send: 13\n",
      "send: 14\n",
      "send: 15\n",
      "send: 16\n",
      "send: 17\n",
      "send: 18\n",
      "send: 19\n",
      "send: 20\n",
      "send: 21\n",
      "send: 22\n",
      "send: 23\n",
      "send: 24\n",
      "send: 25\n"
     ]
    },
    {
     "name": "stderr",
     "output_type": "stream",
     "text": [
      "Process Process-18:\n",
      "Traceback (most recent call last):\n",
      "  File \"/Library/Frameworks/Python.framework/Versions/3.7/lib/python3.7/multiprocessing/process.py\", line 297, in _bootstrap\n",
      "    self.run()\n",
      "  File \"/Library/Frameworks/Python.framework/Versions/3.7/lib/python3.7/multiprocessing/process.py\", line 99, in run\n",
      "    self._target(*self._args, **self._kwargs)\n",
      "  File \"<ipython-input-9-cf16f6ce0df6>\", line 9, in proc1\n",
      "    time.sleep(1)\n",
      "KeyboardInterrupt\n"
     ]
    },
    {
     "ename": "KeyboardInterrupt",
     "evalue": "",
     "output_type": "error",
     "traceback": [
      "\u001b[0;31m---------------------------------------------------------------------------\u001b[0m",
      "\u001b[0;31mKeyboardInterrupt\u001b[0m                         Traceback (most recent call last)",
      "\u001b[0;32m<ipython-input-9-cf16f6ce0df6>\u001b[0m in \u001b[0;36m<module>\u001b[0;34m\u001b[0m\n\u001b[1;32m     27\u001b[0m     \u001b[0mp2\u001b[0m\u001b[0;34m.\u001b[0m\u001b[0mstart\u001b[0m\u001b[0;34m(\u001b[0m\u001b[0;34m)\u001b[0m\u001b[0;34m\u001b[0m\u001b[0;34m\u001b[0m\u001b[0m\n\u001b[1;32m     28\u001b[0m \u001b[0;34m\u001b[0m\u001b[0m\n\u001b[0;32m---> 29\u001b[0;31m     \u001b[0mp1\u001b[0m\u001b[0;34m.\u001b[0m\u001b[0mjoin\u001b[0m\u001b[0;34m(\u001b[0m\u001b[0;34m)\u001b[0m\u001b[0;34m\u001b[0m\u001b[0;34m\u001b[0m\u001b[0m\n\u001b[0m\u001b[1;32m     30\u001b[0m     \u001b[0mp2\u001b[0m\u001b[0;34m.\u001b[0m\u001b[0mjoin\u001b[0m\u001b[0;34m(\u001b[0m\u001b[0;34m)\u001b[0m\u001b[0;34m\u001b[0m\u001b[0;34m\u001b[0m\u001b[0m\n",
      "\u001b[0;32m/Library/Frameworks/Python.framework/Versions/3.7/lib/python3.7/multiprocessing/process.py\u001b[0m in \u001b[0;36mjoin\u001b[0;34m(self, timeout)\u001b[0m\n\u001b[1;32m    138\u001b[0m         \u001b[0;32massert\u001b[0m \u001b[0mself\u001b[0m\u001b[0;34m.\u001b[0m\u001b[0m_parent_pid\u001b[0m \u001b[0;34m==\u001b[0m \u001b[0mos\u001b[0m\u001b[0;34m.\u001b[0m\u001b[0mgetpid\u001b[0m\u001b[0;34m(\u001b[0m\u001b[0;34m)\u001b[0m\u001b[0;34m,\u001b[0m \u001b[0;34m'can only join a child process'\u001b[0m\u001b[0;34m\u001b[0m\u001b[0;34m\u001b[0m\u001b[0m\n\u001b[1;32m    139\u001b[0m         \u001b[0;32massert\u001b[0m \u001b[0mself\u001b[0m\u001b[0;34m.\u001b[0m\u001b[0m_popen\u001b[0m \u001b[0;32mis\u001b[0m \u001b[0;32mnot\u001b[0m \u001b[0;32mNone\u001b[0m\u001b[0;34m,\u001b[0m \u001b[0;34m'can only join a started process'\u001b[0m\u001b[0;34m\u001b[0m\u001b[0;34m\u001b[0m\u001b[0m\n\u001b[0;32m--> 140\u001b[0;31m         \u001b[0mres\u001b[0m \u001b[0;34m=\u001b[0m \u001b[0mself\u001b[0m\u001b[0;34m.\u001b[0m\u001b[0m_popen\u001b[0m\u001b[0;34m.\u001b[0m\u001b[0mwait\u001b[0m\u001b[0;34m(\u001b[0m\u001b[0mtimeout\u001b[0m\u001b[0;34m)\u001b[0m\u001b[0;34m\u001b[0m\u001b[0;34m\u001b[0m\u001b[0m\n\u001b[0m\u001b[1;32m    141\u001b[0m         \u001b[0;32mif\u001b[0m \u001b[0mres\u001b[0m \u001b[0;32mis\u001b[0m \u001b[0;32mnot\u001b[0m \u001b[0;32mNone\u001b[0m\u001b[0;34m:\u001b[0m\u001b[0;34m\u001b[0m\u001b[0;34m\u001b[0m\u001b[0m\n\u001b[1;32m    142\u001b[0m             \u001b[0m_children\u001b[0m\u001b[0;34m.\u001b[0m\u001b[0mdiscard\u001b[0m\u001b[0;34m(\u001b[0m\u001b[0mself\u001b[0m\u001b[0;34m)\u001b[0m\u001b[0;34m\u001b[0m\u001b[0;34m\u001b[0m\u001b[0m\n",
      "\u001b[0;32m/Library/Frameworks/Python.framework/Versions/3.7/lib/python3.7/multiprocessing/popen_fork.py\u001b[0m in \u001b[0;36mwait\u001b[0;34m(self, timeout)\u001b[0m\n\u001b[1;32m     46\u001b[0m                     \u001b[0;32mreturn\u001b[0m \u001b[0;32mNone\u001b[0m\u001b[0;34m\u001b[0m\u001b[0;34m\u001b[0m\u001b[0m\n\u001b[1;32m     47\u001b[0m             \u001b[0;31m# This shouldn't block if wait() returned successfully.\u001b[0m\u001b[0;34m\u001b[0m\u001b[0;34m\u001b[0m\u001b[0;34m\u001b[0m\u001b[0m\n\u001b[0;32m---> 48\u001b[0;31m             \u001b[0;32mreturn\u001b[0m \u001b[0mself\u001b[0m\u001b[0;34m.\u001b[0m\u001b[0mpoll\u001b[0m\u001b[0;34m(\u001b[0m\u001b[0mos\u001b[0m\u001b[0;34m.\u001b[0m\u001b[0mWNOHANG\u001b[0m \u001b[0;32mif\u001b[0m \u001b[0mtimeout\u001b[0m \u001b[0;34m==\u001b[0m \u001b[0;36m0.0\u001b[0m \u001b[0;32melse\u001b[0m \u001b[0;36m0\u001b[0m\u001b[0;34m)\u001b[0m\u001b[0;34m\u001b[0m\u001b[0;34m\u001b[0m\u001b[0m\n\u001b[0m\u001b[1;32m     49\u001b[0m         \u001b[0;32mreturn\u001b[0m \u001b[0mself\u001b[0m\u001b[0;34m.\u001b[0m\u001b[0mreturncode\u001b[0m\u001b[0;34m\u001b[0m\u001b[0;34m\u001b[0m\u001b[0m\n\u001b[1;32m     50\u001b[0m \u001b[0;34m\u001b[0m\u001b[0m\n",
      "\u001b[0;32m/Library/Frameworks/Python.framework/Versions/3.7/lib/python3.7/multiprocessing/popen_fork.py\u001b[0m in \u001b[0;36mpoll\u001b[0;34m(self, flag)\u001b[0m\n\u001b[1;32m     26\u001b[0m         \u001b[0;32mif\u001b[0m \u001b[0mself\u001b[0m\u001b[0;34m.\u001b[0m\u001b[0mreturncode\u001b[0m \u001b[0;32mis\u001b[0m \u001b[0;32mNone\u001b[0m\u001b[0;34m:\u001b[0m\u001b[0;34m\u001b[0m\u001b[0;34m\u001b[0m\u001b[0m\n\u001b[1;32m     27\u001b[0m             \u001b[0;32mtry\u001b[0m\u001b[0;34m:\u001b[0m\u001b[0;34m\u001b[0m\u001b[0;34m\u001b[0m\u001b[0m\n\u001b[0;32m---> 28\u001b[0;31m                 \u001b[0mpid\u001b[0m\u001b[0;34m,\u001b[0m \u001b[0msts\u001b[0m \u001b[0;34m=\u001b[0m \u001b[0mos\u001b[0m\u001b[0;34m.\u001b[0m\u001b[0mwaitpid\u001b[0m\u001b[0;34m(\u001b[0m\u001b[0mself\u001b[0m\u001b[0;34m.\u001b[0m\u001b[0mpid\u001b[0m\u001b[0;34m,\u001b[0m \u001b[0mflag\u001b[0m\u001b[0;34m)\u001b[0m\u001b[0;34m\u001b[0m\u001b[0;34m\u001b[0m\u001b[0m\n\u001b[0m\u001b[1;32m     29\u001b[0m             \u001b[0;32mexcept\u001b[0m \u001b[0mOSError\u001b[0m \u001b[0;32mas\u001b[0m \u001b[0me\u001b[0m\u001b[0;34m:\u001b[0m\u001b[0;34m\u001b[0m\u001b[0;34m\u001b[0m\u001b[0m\n\u001b[1;32m     30\u001b[0m                 \u001b[0;31m# Child process not yet created. See #1731717\u001b[0m\u001b[0;34m\u001b[0m\u001b[0;34m\u001b[0m\u001b[0;34m\u001b[0m\u001b[0m\n",
      "\u001b[0;31mKeyboardInterrupt\u001b[0m: "
     ]
    }
   ],
   "source": [
    "import multiprocessing\n",
    "import time\n",
    "\n",
    "def proc1(pipe):\n",
    "    while True:\n",
    "        for i in range(10000):\n",
    "            print(\"send: %s\" %(i))\n",
    "            pipe.send(i)\n",
    "            time.sleep(1)\n",
    "\n",
    "def proc2(pipe):\n",
    "    while True:\n",
    "        print(\"proc2 rev:\", pipe.recv())\n",
    "        time.sleep()\n",
    "\n",
    "def proc3(pipe):\n",
    "    while True:\n",
    "        print(\"proc3 rev\", pipe.recv())\n",
    "        time.sleep(1)\n",
    "\n",
    "if __name__ == \"__main__\":\n",
    "    pipe = multiprocessing.Pipe()\n",
    "    p1 = multiprocessing.Process(target = proc1, args = (pipe[0], ))\n",
    "    p2 = multiprocessing.Process(target = proc2, args = (pipe[1], ))\n",
    "\n",
    "    p1.start()\n",
    "    p2.start()\n",
    "    \n",
    "    p1.join()\n",
    "    p2.join()"
   ]
  },
  {
   "cell_type": "code",
   "execution_count": 10,
   "metadata": {},
   "outputs": [
    {
     "name": "stdout",
     "output_type": "stream",
     "text": [
      "msg: hello 1\n",
      "msg: hello 0\n",
      "msg: hello 2\n",
      "--------\n",
      "Mark~ Mark~~~~~~~~~~~~~~\n",
      "end\n",
      "end\n",
      "end\n",
      "msg: hello 3\n",
      "end\n",
      "Sub-process(es) done.\n"
     ]
    }
   ],
   "source": [
    "import multiprocessing\n",
    "import time\n",
    "\n",
    "def func(msg):\n",
    "    print(\"msg:\", msg)\n",
    "    time.sleep(3)\n",
    "    print(\"end\")\n",
    "\n",
    "if __name__=='__main__':\n",
    "    pool = multiprocessing.Pool(processes = 3)\n",
    "    print(\"--------\")\n",
    "    for i in range(4):\n",
    "        msg = \"hello %d\" %(i)\n",
    "        pool.apply_async(func, (msg, ))\n",
    "    print(\"Mark~ Mark~~~~~~~~~~~~~~\")\n",
    "    pool.close()\n",
    "    pool.join()\n",
    "    print(\"Sub-process(es) done.\")"
   ]
  },
  {
   "cell_type": "code",
   "execution_count": null,
   "metadata": {},
   "outputs": [],
   "source": []
  }
 ],
 "metadata": {
  "kernelspec": {
   "display_name": "Python 3",
   "language": "python",
   "name": "python3"
  },
  "language_info": {
   "codemirror_mode": {
    "name": "ipython",
    "version": 3
   },
   "file_extension": ".py",
   "mimetype": "text/x-python",
   "name": "python",
   "nbconvert_exporter": "python",
   "pygments_lexer": "ipython3",
   "version": "3.7.1"
  }
 },
 "nbformat": 4,
 "nbformat_minor": 2
}
