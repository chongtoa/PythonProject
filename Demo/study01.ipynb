{
 "cells": [
  {
   "cell_type": "code",
   "execution_count": 1,
   "metadata": {},
   "outputs": [
    {
     "name": "stdout",
     "output_type": "stream",
     "text": [
      "4\n",
      "3\n",
      "2\n",
      "1\n",
      "4\n",
      "3\n",
      "2\n",
      "1\n"
     ]
    }
   ],
   "source": [
    "# 1、反向迭代一个序列, 如果是列表使用reverse，其它手动排列\n",
    "templist = [1, 2, 3, 4]\n",
    "templist.reverse()\n",
    "for x in templist:\n",
    "    print(x)\n",
    "    \n",
    "tempList = (1, 2, 3, 4)\n",
    "for i in range(len(tempList)-1, -1, -1):\n",
    "    print(tempList[i])"
   ]
  },
  {
   "cell_type": "code",
   "execution_count": 3,
   "metadata": {},
   "outputs": [
    {
     "name": "stdout",
     "output_type": "stream",
     "text": [
      "hello python hello python are python ok\n",
      "Bye you Bye python are you ok\n"
     ]
    }
   ],
   "source": [
    "# 2. 查询和替代文本中字符串,使用replace()函数\n",
    "tempstr = \"hello you hello python are you ok\"\n",
    "print(tempstr.replace(\"you\", \"python\"))\n",
    "\n",
    "# 使用正则\n",
    "import re\n",
    "rex = r'(hello|Use)'\n",
    "print(re.sub(rex, \"Bye\", tempstr))"
   ]
  },
  {
   "cell_type": "code",
   "execution_count": 4,
   "metadata": {},
   "outputs": [
    {
     "name": "stdout",
     "output_type": "stream",
     "text": [
      "1 1\n",
      "2 2\n",
      "4553629312 4553629312\n"
     ]
    }
   ],
   "source": [
    "#3、使用python实现单例模式\n",
    "# 方法一：使用__new__方法,在__new__方法中把类实例绑定到类变量__instance上，如果cls._instance为None表示该类没有\n",
    "# 实例化，实例化该类返回，反之，直接返回cls._instance\n",
    "class SingTon(object):\n",
    "    def __new__(cls, *args, **kwargs):\n",
    "        if not hasattr(cls, '_instance'):\n",
    "            cls._instance = object.__new__(cls, *args, **kwargs)\n",
    "        return cls._instance\n",
    "\n",
    "class TestClass(SingTon):\n",
    "    a = 1\n",
    "    \n",
    "test1 = TestClass()\n",
    "test2 = TestClass()\n",
    "print(test1.a, test2.a)\n",
    "\n",
    "test1.a = 2\n",
    "print(test1.a, test2.a)\n",
    "\n",
    "print(id(test1), id(test2))"
   ]
  },
  {
   "cell_type": "code",
   "execution_count": 6,
   "metadata": {},
   "outputs": [
    {
     "name": "stdout",
     "output_type": "stream",
     "text": [
      "{}\n",
      "{<class '__main__.LastClass'>: <__main__.LastClass object at 0x10f6b7630>}\n",
      "1\n",
      "{<class '__main__.LastClass'>: <__main__.LastClass object at 0x10f6b7630>}\n",
      "1\n"
     ]
    }
   ],
   "source": [
    "# 方法二：使用装饰器，建立实例的就放到instance里面，下次建立的时候先检查里面是否存在\n",
    "def SingTon(cls, *args, **kwargs):\n",
    "    instances = {}\n",
    "    print(instances)\n",
    "    \n",
    "    def _singleton():\n",
    "        if cls not in instances:\n",
    "            instances[cls] = cls(*args, **kwargs)\n",
    "        print(instances)\n",
    "        return instances[cls]\n",
    "    return _singleton\n",
    "\n",
    "@SingTon\n",
    "class LastClass(object):\n",
    "    a = 1\n",
    "    \n",
    "test1 = LastClass()\n",
    "print(test1.a)\n",
    "\n",
    "test2 = LastClass()\n",
    "print(test2.a)"
   ]
  }
 ],
 "metadata": {
  "kernelspec": {
   "display_name": "Python 3",
   "language": "python",
   "name": "python3"
  },
  "language_info": {
   "codemirror_mode": {
    "name": "ipython",
    "version": 3
   },
   "file_extension": ".py",
   "mimetype": "text/x-python",
   "name": "python",
   "nbconvert_exporter": "python",
   "pygments_lexer": "ipython3",
   "version": "3.7.1"
  }
 },
 "nbformat": 4,
 "nbformat_minor": 2
}
