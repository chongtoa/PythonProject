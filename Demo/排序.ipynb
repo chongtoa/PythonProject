{
 "cells": [
  {
   "cell_type": "code",
   "execution_count": 2,
   "metadata": {},
   "outputs": [
    {
     "name": "stdout",
     "output_type": "stream",
     "text": [
      "[1, 2, 3, 4, 5, 6, 7, 8, 9]\n"
     ]
    }
   ],
   "source": [
    "# quicksort\n",
    "import random\n",
    "def quicksort(seq):\n",
    "    if len(seq) < 2:\n",
    "        return seq\n",
    "    else:\n",
    "        base = seq[0]\n",
    "        left = [elem for elem in seq[1:] if elem < base]\n",
    "        right = [elem for elem in seq[1:] if elem > base]\n",
    "        return quicksort(left) + [base] + quicksort(right)\n",
    "    \n",
    "seq = [9, 8, 7, 6, 5, 4, 3, 2, 1]\n",
    "random.shuffle(seq)\n",
    "\n",
    "print(quicksort(seq))"
   ]
  },
  {
   "cell_type": "code",
   "execution_count": 3,
   "metadata": {},
   "outputs": [
    {
     "name": "stdout",
     "output_type": "stream",
     "text": [
      "[1, 2, 3, 4, 5, 6, 7, 8, 9]\n"
     ]
    }
   ],
   "source": [
    "# 冒泡排序\n",
    "def bouble_sort(sequence):\n",
    "    seq = sequence[:]\n",
    "    length = len(seq) - 1\n",
    "    i = j = 0\n",
    "    flag = 1\n",
    "    while i < length:\n",
    "        j = 0\n",
    "        while j < length - i:\n",
    "            if seq[j] > seq[j + 1]:\n",
    "                seq[j], seq[j + 1] = seq[j + 1], seq[j]\n",
    "                flag = 0\n",
    "            j += 1\n",
    "        if flag:\n",
    "            break\n",
    "        i += 1\n",
    "    return seq\n",
    "\n",
    "seq = [9, 8, 7, 6, 5, 4, 3, 2, 1]\n",
    "random.shuffle(seq)\n",
    "\n",
    "print(bouble_sort(seq))"
   ]
  },
  {
   "cell_type": "code",
   "execution_count": 5,
   "metadata": {},
   "outputs": [
    {
     "name": "stdout",
     "output_type": "stream",
     "text": [
      "[1, 2, 3, 4, 5, 6, 7, 8, 9]\n"
     ]
    }
   ],
   "source": [
    "# 选择排序\n",
    "def find_minimal_index(seq):\n",
    "    min_elem = seq[0]\n",
    "    count = 0\n",
    "    min_elem_index = count\n",
    "    for elem in seq[1:]:\n",
    "        count += 1\n",
    "        if elem < min_elem:\n",
    "            elem, min_elem = min_elem, elem\n",
    "            min_elem_index = count\n",
    "    return min_elem_index\n",
    "def select_sort(sequence):\n",
    "    seq = sequence[:]\n",
    "    length = len(seq)\n",
    "    for i in range(length):\n",
    "        index = find_minimal_index(seq[i:])\n",
    "        seq[index + i], seq[i] = seq[i], seq[index + i]\n",
    "    return seq\n",
    "\n",
    "seq = [9, 8, 7, 6, 5, 4, 3, 2, 1]\n",
    "random.shuffle(seq)\n",
    "\n",
    "print(select_sort(seq))"
   ]
  },
  {
   "cell_type": "code",
   "execution_count": null,
   "metadata": {},
   "outputs": [],
   "source": []
  }
 ],
 "metadata": {
  "kernelspec": {
   "display_name": "Python 3",
   "language": "python",
   "name": "python3"
  },
  "language_info": {
   "codemirror_mode": {
    "name": "ipython",
    "version": 3
   },
   "file_extension": ".py",
   "mimetype": "text/x-python",
   "name": "python",
   "nbconvert_exporter": "python",
   "pygments_lexer": "ipython3",
   "version": "3.7.1"
  }
 },
 "nbformat": 4,
 "nbformat_minor": 2
}
