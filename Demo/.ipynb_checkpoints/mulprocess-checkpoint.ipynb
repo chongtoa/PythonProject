{
 "cells": [
  {
   "cell_type": "code",
   "execution_count": 2,
   "metadata": {},
   "outputs": [
    {
     "name": "stdout",
     "output_type": "stream",
     "text": [
      "p.pid: 1170\n",
      "p.name: Process-1\n",
      "p.is_alive True\n",
      "The time is Mon Apr  1 23:50:43 2019\n",
      "The time is Mon Apr  1 23:50:46 2019\n",
      "The time is Mon Apr  1 23:50:50 2019\n",
      "The time is Mon Apr  1 23:50:53 2019\n",
      "The time is Mon Apr  1 23:50:56 2019\n"
     ]
    }
   ],
   "source": [
    "import multiprocessing\n",
    "import time\n",
    "\n",
    "def worker(interval):\n",
    "    n = 5\n",
    "    while n > 0:\n",
    "        print(\"The time is {0}\".format(time.ctime()))\n",
    "        time.sleep(interval)\n",
    "        n -= 1\n",
    "        \n",
    "if __name__ == \"__main__\":\n",
    "    p = multiprocessing.Process(target = worker, args = (3,))\n",
    "    p.start()\n",
    "    print(\"p.pid:\", p.pid)\n",
    "    print(\"p.name:\", p.name)\n",
    "    print(\"p.is_alive\", p.is_alive())"
   ]
  },
  {
   "cell_type": "code",
   "execution_count": 4,
   "metadata": {},
   "outputs": [
    {
     "name": "stdout",
     "output_type": "stream",
     "text": [
      "The number of CPU is:4\n",
      "child p.nameProcess-2\tp.id1173\n",
      "child p.nameProcess-4\tp.id1175\n",
      "child p.nameProcess-3\tp.id1174\n",
      "END !!!!!!!!!!!!!!\n",
      "worker_1\n",
      "worker_2\n",
      "worker_3\n",
      "end worker_1\n",
      "end worker_2\n",
      "end worker_3\n"
     ]
    }
   ],
   "source": [
    "import multiprocessing\n",
    "import time\n",
    "\n",
    "def worker_1(interval):\n",
    "    print(\"worker_1\")\n",
    "    time.sleep(interval)\n",
    "    print(\"end worker_1\")\n",
    "    \n",
    "def worker_2(interval):\n",
    "    print(\"worker_2\")\n",
    "    time.sleep(interval)\n",
    "    print(\"end worker_2\")\n",
    "        \n",
    "def worker_3(interval):\n",
    "    print(\"worker_3\")\n",
    "    time.sleep(interval)\n",
    "    print(\"end worker_3\")\n",
    "    \n",
    "if __name__ == \"__main__\":\n",
    "    p1 = multiprocessing.Process(target = worker_1, args = (2,))\n",
    "    p2 = multiprocessing.Process(target = worker_2, args = (3,))\n",
    "    p3 = multiprocessing.Process(target = worker_3, args = (4,))\n",
    "    \n",
    "    p1.start()\n",
    "    p2.start()\n",
    "    p3.start()\n",
    "    \n",
    "    print(\"The number of CPU is:\" + str(multiprocessing.cpu_count()))\n",
    "    for p in multiprocessing.active_children():\n",
    "        print(\"child p.name\" + p.name + \"\\tp.id\" + str(p.pid))\n",
    "    print(\"END !!!!!!!!!!!!!!\")"
   ]
  },
  {
   "cell_type": "code",
   "execution_count": 5,
   "metadata": {},
   "outputs": [
    {
     "name": "stdout",
     "output_type": "stream",
     "text": [
      "the time is Tue Apr  2 00:02:41 2019\n",
      "the time is Tue Apr  2 00:02:44 2019\n",
      "the time is Tue Apr  2 00:02:47 2019\n",
      "the time is Tue Apr  2 00:02:50 2019\n",
      "the time is Tue Apr  2 00:02:53 2019\n"
     ]
    }
   ],
   "source": [
    "import multiprocessing\n",
    "import time\n",
    "\n",
    "class ClockProcess(multiprocessing.Process):\n",
    "    def __init__(self, interval):\n",
    "        multiprocessing.Process.__init__(self)\n",
    "        self.interval = interval\n",
    "    def run(self):\n",
    "        n = 5\n",
    "        while n > 0:\n",
    "            print(\"the time is {0}\".format(time.ctime()))\n",
    "            time.sleep(self.interval)\n",
    "            n -= 1\n",
    "    \n",
    "if __name__ == \"__main__\":\n",
    "    p = ClockProcess(3)\n",
    "    p.start()"
   ]
  },
  {
   "cell_type": "code",
   "execution_count": 6,
   "metadata": {},
   "outputs": [
    {
     "name": "stdout",
     "output_type": "stream",
     "text": [
      "worker start:Tue Apr  2 00:07:37 2019\n",
      "worker end:Tue Apr  2 00:07:40 2019\n",
      "end!\n"
     ]
    }
   ],
   "source": [
    "import multiprocessing\n",
    "import time\n",
    "\n",
    "def worker(interval):\n",
    "    print(\"worker start:{0}\".format(time.ctime()))\n",
    "    time.sleep(interval)\n",
    "    print(\"worker end:{0}\".format(time.ctime()))\n",
    "    \n",
    "if __name__ == \"__main__\":\n",
    "    p = multiprocessing.Process(target = worker, args = (3,))\n",
    "    p.daemon = True\n",
    "    p.start()\n",
    "    p.join()\n",
    "    print(\"end!\")"
   ]
  },
  {
   "cell_type": "code",
   "execution_count": 2,
   "metadata": {},
   "outputs": [
    {
     "name": "stdout",
     "output_type": "stream",
     "text": [
      "end\n"
     ]
    }
   ],
   "source": [
    "import multiprocessing\n",
    "import sys\n",
    "\n",
    "def worker_with(lock, f):\n",
    "    with lock:\n",
    "        fs = open(f, \"a+\")\n",
    "        n = 10\n",
    "        while n > 1:\n",
    "            fs.write(\"Locked acquired via with\\n\")\n",
    "            n -= 1\n",
    "        fs.close()\n",
    "\n",
    "def worker_no_with(lock, f):\n",
    "    lock.acquire()\n",
    "    try:\n",
    "        fs = open(f, \"a+\")\n",
    "        n = 10\n",
    "        while n > 1:\n",
    "            fs.write(\"Lock acquired via directly\\n\")\n",
    "            n -= 1\n",
    "        fs.close()\n",
    "    finally:\n",
    "        lock.release()\n",
    "        \n",
    "if __name__ == \"__main__\":\n",
    "    lock = multiprocessing.Lock()\n",
    "    f = \"file.txt\"\n",
    "    w = multiprocessing.Process(target = worker_with, args=(lock, f))\n",
    "    nw = multiprocessing.Process(target = worker_no_with, args=(lock, f))\n",
    "    w.start()\n",
    "    nw.start()\n",
    "    print(\"end\")"
   ]
  },
  {
   "cell_type": "code",
   "execution_count": 4,
   "metadata": {},
   "outputs": [
    {
     "name": "stdout",
     "output_type": "stream",
     "text": [
      "Process-5acquire\n",
      "Process-5release\n",
      "Process-6acquire\n",
      "\n",
      "Process-7acquire\n",
      "Process-6release\n",
      "\n",
      "Process-8acquire\n",
      "Process-7release\n",
      "\n",
      "Process-9acquire\n",
      "Process-8release\n",
      "\n",
      "Process-9release\n",
      "\n"
     ]
    }
   ],
   "source": [
    "import multiprocessing\n",
    "import time\n",
    "\n",
    "def worker(s, i):\n",
    "    s.acquire()\n",
    "    print(multiprocessing.current_process().name + \"acquire\")\n",
    "    time.sleep(i)\n",
    "    print(multiprocessing.current_process().name + \"release\\n\")\n",
    "    s.release()\n",
    "    \n",
    "if __name__ == \"__main__\":\n",
    "    s = multiprocessing.Semaphore(2)\n",
    "    for i in range(5):\n",
    "        p = multiprocessing.Process(target = worker, args = (s, i*2))\n",
    "        p.start()"
   ]
  },
  {
   "cell_type": "code",
   "execution_count": 6,
   "metadata": {},
   "outputs": [
    {
     "name": "stdout",
     "output_type": "stream",
     "text": [
      "wait_for_event: starting\n",
      "worker_for_event_timeout: starting\n",
      "worker_for_event_timeout: e.is_set()->False\n",
      "main:event is set\n",
      "wait_for_event: e.is_set()->True\n"
     ]
    }
   ],
   "source": [
    "import multiprocessing\n",
    "import time\n",
    "\n",
    "def wait_for_event(e):\n",
    "    print(\"wait_for_event: starting\")\n",
    "    e.wait()\n",
    "    print(\"wait_for_event: e.is_set()->\" + str(e.is_set()))\n",
    "    \n",
    "def wait_for_event_timeout(e, t):\n",
    "    print(\"worker_for_event_timeout: starting\")\n",
    "    e.wait(t)\n",
    "    print(\"worker_for_event_timeout: e.is_set()->\" + str(e.is_set()))\n",
    "    \n",
    "if __name__ == \"__main__\":\n",
    "    e = multiprocessing.Event()\n",
    "    w1 = multiprocessing.Process(name = \"block\",\n",
    "                                target = wait_for_event,\n",
    "                                args = (e, ))\n",
    "    \n",
    "    w2 = multiprocessing.Process(name = \"no-block\",\n",
    "                                target = wait_for_event_timeout,\n",
    "                                args = (e, 2))\n",
    "    w1.start()\n",
    "    w2.start()\n",
    "    time.sleep(3)\n",
    "    \n",
    "    e.set()\n",
    "    print(\"main:event is set\")"
   ]
  },
  {
   "cell_type": "code",
   "execution_count": 7,
   "metadata": {},
   "outputs": [
    {
     "name": "stdout",
     "output_type": "stream",
     "text": [
      "1\n"
     ]
    }
   ],
   "source": [
    "import multiprocessing\n",
    "\n",
    "def writer_proc(q):\n",
    "    try:\n",
    "        q.put(1, block = False)\n",
    "    except:\n",
    "        pass\n",
    "\n",
    "def reader_proc(q):\n",
    "    try:\n",
    "        print(q.get(block = False))\n",
    "    except:\n",
    "        pass\n",
    "    \n",
    "if __name__ == \"__main__\":\n",
    "    q = multiprocessing.Queue()\n",
    "    writer = multiprocessing.Process(target = writer_proc, args = (q, ))\n",
    "    writer.start()\n",
    "    \n",
    "    reader = multiprocessing.Process(target = reader_proc, args=(q, ))\n",
    "    reader.start()\n",
    "    \n",
    "    reader.join()\n",
    "    writer.join()"
   ]
  },
  {
   "cell_type": "code",
   "execution_count": null,
   "metadata": {},
   "outputs": [],
   "source": [
    "import multiprocessing\n",
    "import time\n",
    "\n",
    "def proc1(pipe):\n",
    "    while True:\n",
    "        for i in range(10000):\n",
    "            print(\"send: %s\" %(i))\n",
    "            pipe.send(i)\n",
    "            time.sleep(1)\n",
    "\n",
    "def proc2(pipe):\n",
    "    while True:\n",
    "        print(\"proc2 rev:\", pipe.recv())\n",
    "        time.sleep()\n",
    "\n",
    "def proc3(pipe):\n",
    "    while True:\n",
    "        print(\"proc3 rev\", pipe.recv())\n",
    "        time.sleep(1)\n",
    "\n",
    "if __name__ == \"__main__\":\n",
    "    pipe = multiprocessing.Pipe()\n",
    "    p1 = multiprocessing.Process(target = proc1, args = (pipe[0], ))\n",
    "    p2 = multiprocessing.Process(target = proc2, args = (pipe[1], ))\n",
    "\n",
    "    p1.start()\n",
    "    p2.start()\n",
    "    \n",
    "    p1.join()\n",
    "    p2.join()"
   ]
  },
  {
   "cell_type": "code",
   "execution_count": null,
   "metadata": {},
   "outputs": [],
   "source": [
    "import multiprocessing\n",
    "import time\n",
    "\n",
    "def func(msg):\n",
    "    print(\"msg:\", msg)\n",
    "    time.sleep(3)\n",
    "    print(\"end\")\n",
    "    \n",
    "if __name__ == \"__main__\":\n",
    "    pool = multiprocessing.Pool(processes = 3)\n",
    "    print(\"--------\")\n",
    "    for i in range(4):\n",
    "        msg = \"hello %d\" %(i)\n",
    "        pool.apply_async(func, (msg, ))\n",
    "    print(\"Mark~ Mark~~~~~~~~~~~~~~\")\n",
    "    pool.close()\n",
    "    pool.join()\n",
    "    print(\"Sub-process(es) done.\")"
   ]
  },
  {
   "cell_type": "code",
   "execution_count": null,
   "metadata": {},
   "outputs": [],
   "source": []
  }
 ],
 "metadata": {
  "kernelspec": {
   "display_name": "Python 3",
   "language": "python",
   "name": "python3"
  },
  "language_info": {
   "codemirror_mode": {
    "name": "ipython",
    "version": 3
   },
   "file_extension": ".py",
   "mimetype": "text/x-python",
   "name": "python",
   "nbconvert_exporter": "python",
   "pygments_lexer": "ipython3",
   "version": "3.7.1"
  }
 },
 "nbformat": 4,
 "nbformat_minor": 2
}
