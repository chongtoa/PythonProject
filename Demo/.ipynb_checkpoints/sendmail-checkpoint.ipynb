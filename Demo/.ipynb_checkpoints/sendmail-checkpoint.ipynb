{
 "cells": [
  {
   "cell_type": "code",
   "execution_count": 1,
   "metadata": {},
   "outputs": [],
   "source": [
    "import requests, bs4, smtplib\n",
    "from email.mime.text import MIMEText\n",
    "from email.header import Header"
   ]
  },
  {
   "cell_type": "code",
   "execution_count": 2,
   "metadata": {},
   "outputs": [],
   "source": [
    "def sendmail(content):\n",
    "    # 发送消息邮箱\n",
    "    smtp_server = \"smtp.163.com\"\n",
    "    fromMail = \"chongtao1990@163.com\"   \n",
    "    mailPass = (\"ct8310984354\") \n",
    "    \n",
    "    #接受消息邮箱\n",
    "    toMail = \"1558770285@qq.com\"\n",
    "    fromName = \"mywork\"\n",
    "    subject = \"python Email\"\n",
    "    \n",
    "    # 发送消息内容\n",
    "    msg = MIMEText(content)\n",
    "    msg[\"Subject\"] = subject\n",
    "    msg[\"From\"] = fromMail\n",
    "    msg[\"To\"] = toMail\n",
    "    \n",
    "    try:\n",
    "        s = smtplib.SMTP()\n",
    "        print(\"***正在连接服务器***\")\n",
    "        s.connect(smtp_server)\n",
    "        s = smtplib.SMTP_SSL(\"smtp.163.com\", 465)\n",
    "        print(\"***正在登陆***\")\n",
    "        s.login(fromMail, mailPass)\n",
    "        print(\"***sending***\")\n",
    "        s.sendmail(fromMail, toMail, msg.as_string())\n",
    "        print(\"***send Sucess!***\")\n",
    "        s.quit()\n",
    "    except Exception as e:\n",
    "        print(\"*** error *****\" + str(e))"
   ]
  },
  {
   "cell_type": "code",
   "execution_count": 3,
   "metadata": {},
   "outputs": [
    {
     "ename": "NameError",
     "evalue": "name 'toMail' is not defined",
     "output_type": "error",
     "traceback": [
      "\u001b[0;31m---------------------------------------------------------------------------\u001b[0m",
      "\u001b[0;31mNameError\u001b[0m                                 Traceback (most recent call last)",
      "\u001b[0;32m<ipython-input-3-662c215810d5>\u001b[0m in \u001b[0;36m<module>\u001b[0;34m\u001b[0m\n\u001b[1;32m      1\u001b[0m \u001b[0;31m# 发送内容\u001b[0m\u001b[0;34m\u001b[0m\u001b[0;34m\u001b[0m\u001b[0;34m\u001b[0m\u001b[0m\n\u001b[1;32m      2\u001b[0m \u001b[0;32mif\u001b[0m \u001b[0m__name__\u001b[0m \u001b[0;34m==\u001b[0m \u001b[0;34m\"__main__\"\u001b[0m\u001b[0;34m:\u001b[0m\u001b[0;34m\u001b[0m\u001b[0;34m\u001b[0m\u001b[0m\n\u001b[0;32m----> 3\u001b[0;31m     \u001b[0msendmail\u001b[0m\u001b[0;34m(\u001b[0m\u001b[0;34m\"sucess! This is a test\"\u001b[0m\u001b[0;34m)\u001b[0m\u001b[0;34m\u001b[0m\u001b[0;34m\u001b[0m\u001b[0m\n\u001b[0m\u001b[1;32m      4\u001b[0m     \u001b[0mprint\u001b[0m\u001b[0;34m(\u001b[0m\u001b[0;34m\"Done\"\u001b[0m\u001b[0;34m)\u001b[0m\u001b[0;34m\u001b[0m\u001b[0;34m\u001b[0m\u001b[0m\n",
      "\u001b[0;32m<ipython-input-2-b14afa948964>\u001b[0m in \u001b[0;36msendmail\u001b[0;34m(content)\u001b[0m\n\u001b[1;32m     14\u001b[0m     \u001b[0mmsg\u001b[0m\u001b[0;34m[\u001b[0m\u001b[0;34m\"Subject\"\u001b[0m\u001b[0;34m]\u001b[0m \u001b[0;34m=\u001b[0m \u001b[0msubject\u001b[0m\u001b[0;34m\u001b[0m\u001b[0;34m\u001b[0m\u001b[0m\n\u001b[1;32m     15\u001b[0m     \u001b[0mmsg\u001b[0m\u001b[0;34m[\u001b[0m\u001b[0;34m\"From\"\u001b[0m\u001b[0;34m]\u001b[0m \u001b[0;34m=\u001b[0m \u001b[0mfromMail\u001b[0m\u001b[0;34m\u001b[0m\u001b[0;34m\u001b[0m\u001b[0m\n\u001b[0;32m---> 16\u001b[0;31m     \u001b[0mmsg\u001b[0m\u001b[0;34m[\u001b[0m\u001b[0;34m\"To\"\u001b[0m\u001b[0;34m]\u001b[0m \u001b[0;34m=\u001b[0m \u001b[0mtoMail\u001b[0m\u001b[0;34m\u001b[0m\u001b[0;34m\u001b[0m\u001b[0m\n\u001b[0m\u001b[1;32m     17\u001b[0m \u001b[0;34m\u001b[0m\u001b[0m\n\u001b[1;32m     18\u001b[0m     \u001b[0;32mtry\u001b[0m\u001b[0;34m:\u001b[0m\u001b[0;34m\u001b[0m\u001b[0;34m\u001b[0m\u001b[0m\n",
      "\u001b[0;31mNameError\u001b[0m: name 'toMail' is not defined"
     ]
    }
   ],
   "source": [
    "# 发送内容\n",
    "if __name__ == \"__main__\":\n",
    "    sendmail(\"sucess! This is a test\")\n",
    "    print(\"Done\")"
   ]
  }
 ],
 "metadata": {
  "kernelspec": {
   "display_name": "Python 3",
   "language": "python",
   "name": "python3"
  },
  "language_info": {
   "codemirror_mode": {
    "name": "ipython",
    "version": 3
   },
   "file_extension": ".py",
   "mimetype": "text/x-python",
   "name": "python",
   "nbconvert_exporter": "python",
   "pygments_lexer": "ipython3",
   "version": "3.7.1"
  }
 },
 "nbformat": 4,
 "nbformat_minor": 2
}
