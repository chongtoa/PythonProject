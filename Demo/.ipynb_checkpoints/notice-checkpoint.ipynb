{
 "cells": [
  {
   "cell_type": "code",
   "execution_count": 3,
   "metadata": {},
   "outputs": [
    {
     "name": "stdout",
     "output_type": "stream",
     "text": [
      "base show\n"
     ]
    }
   ],
   "source": [
    "# coding:utf-8\n",
    "class A(object):\n",
    "    def show(self):\n",
    "        print(\"base show\")\n",
    "        \n",
    "class B(A):\n",
    "    def show(self):\n",
    "        print(\"derived show\")\n",
    "        \n",
    "obj.__class__ = A\n",
    "obj.show()"
   ]
  },
  {
   "cell_type": "code",
   "execution_count": 6,
   "metadata": {},
   "outputs": [
    {
     "name": "stdout",
     "output_type": "stream",
     "text": [
      "a= 10 b= 20\n",
      "call: 90\n"
     ]
    }
   ],
   "source": [
    "class A(object):\n",
    "    def __init__(self, a, b):\n",
    "        self.__a = a\n",
    "        self.__b = b\n",
    "    def myprint(self):\n",
    "        print(\"a=\",self.__a, \"b=\", self.__b)\n",
    "    def __call__(self, num):\n",
    "        print(\"call:\", num + self.__a)\n",
    "a1 = A(10, 20)\n",
    "a1.myprint()\n",
    "\n",
    "a1(80)"
   ]
  },
  {
   "cell_type": "code",
   "execution_count": 7,
   "metadata": {},
   "outputs": [
    {
     "name": "stdout",
     "output_type": "stream",
     "text": [
      "NEW 5\n",
      "B INIT\n",
      "B fn\n",
      "NEW 20\n",
      "INIT 20\n",
      "A fn\n"
     ]
    }
   ],
   "source": [
    "# 考察new和init的用法，使用__new__方法，可以决定返回哪个对象，也就是创建对象之前调用的，这种常见与设计模式单例、工厂模式。__init__是创建对象调用的\n",
    "\n",
    "class B(object):\n",
    "    def fn(self):\n",
    "        print(\"B fn\")\n",
    "    def __init__(self):\n",
    "        print(\"B INIT\")\n",
    "        \n",
    "class A(object):\n",
    "    def fn(self):\n",
    "        print(\"A fn\")\n",
    "    def __new__(cls, a):\n",
    "        print(\"NEW\", a)\n",
    "        if a > 10:\n",
    "            return super(A, cls).__new__(cls)\n",
    "        return B()\n",
    "    def __init__(self, a):\n",
    "        print(\"INIT\", a)\n",
    "        \n",
    "a1 = A(5)\n",
    "a1.fn()\n",
    "a2 = A(20)\n",
    "a2.fn()"
   ]
  },
  {
   "cell_type": "code",
   "execution_count": null,
   "metadata": {},
   "outputs": [],
   "source": []
  }
 ],
 "metadata": {
  "kernelspec": {
   "display_name": "Python 3",
   "language": "python",
   "name": "python3"
  },
  "language_info": {
   "codemirror_mode": {
    "name": "ipython",
    "version": 3
   },
   "file_extension": ".py",
   "mimetype": "text/x-python",
   "name": "python",
   "nbconvert_exporter": "python",
   "pygments_lexer": "ipython3",
   "version": "3.7.1"
  }
 },
 "nbformat": 4,
 "nbformat_minor": 2
}
