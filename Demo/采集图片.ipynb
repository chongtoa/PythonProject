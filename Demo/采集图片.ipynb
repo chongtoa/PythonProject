{
 "cells": [
  {
   "cell_type": "code",
   "execution_count": 1,
   "metadata": {},
   "outputs": [],
   "source": [
    "import requests\n",
    "from bs4 import BeautifulSoup\n",
    "import re\n",
    "import os\n",
    "import pandas as pd"
   ]
  },
  {
   "cell_type": "code",
   "execution_count": 15,
   "metadata": {},
   "outputs": [],
   "source": [
    "url = \"https://www.jianshu.com/p/1376959c3679\"\n",
    "headers = {'User-Agent': \n",
    "           'Mozilla/5.0 (Macintosh; Intel Mac OS X 10_14_4) AppleWebKit/537.36 (KHTML, like Gecko) Chrome/73.0.3683.103 Safari/537.36'}\n",
    "\n",
    "r = requests.get(url, headers = headers)\n",
    "html = r.text.encode(r.encoding).decode()\n",
    "soup = BeautifulSoup(html, 'lxml')\n",
    "imgs = soup.findAll(lambda tag:tag.name == 'img'\n",
    "                   and tag.has_attr('data-original-src'))\n",
    "srcs = [i.attrs['data-original-src'] for i in imgs]\n",
    "sources = ['https:' + src for src in srcs]"
   ]
  },
  {
   "cell_type": "code",
   "execution_count": 16,
   "metadata": {},
   "outputs": [
    {
     "name": "stdout",
     "output_type": "stream",
     "text": [
      "/Users/chongtao/Documents/GitHub/PythonProject/Demo/户外风景独好\n",
      "正在下载第0张照片\n",
      "正在下载第1张照片\n",
      "正在下载第2张照片\n",
      "正在下载第3张照片\n",
      "正在下载第4张照片\n",
      "正在下载第5张照片\n",
      "正在下载第6张照片\n",
      "正在下载第7张照片\n",
      "正在下载第8张照片\n"
     ]
    }
   ],
   "source": [
    "filedir = os.getcwd() + '/户外风景独好'\n",
    "if not os.path.exists(filedir):\n",
    "    os.mkdir(filedir)\n",
    "print(filedir)\n",
    "for i in range(len(sources)):\n",
    "    rpi = requests.get(sources[i], headers = headers)\n",
    "    if rpi.status_code == 200:\n",
    "        with open(filedir + '%s.jpg' %i, mode = 'wb') as f:\n",
    "            f.write(rpi.content)\n",
    "            print('正在下载第%d张照片'%i)"
   ]
  },
  {
   "cell_type": "code",
   "execution_count": null,
   "metadata": {},
   "outputs": [],
   "source": []
  }
 ],
 "metadata": {
  "kernelspec": {
   "display_name": "Python 3",
   "language": "python",
   "name": "python3"
  },
  "language_info": {
   "codemirror_mode": {
    "name": "ipython",
    "version": 3
   },
   "file_extension": ".py",
   "mimetype": "text/x-python",
   "name": "python",
   "nbconvert_exporter": "python",
   "pygments_lexer": "ipython3",
   "version": "3.7.1"
  }
 },
 "nbformat": 4,
 "nbformat_minor": 2
}
